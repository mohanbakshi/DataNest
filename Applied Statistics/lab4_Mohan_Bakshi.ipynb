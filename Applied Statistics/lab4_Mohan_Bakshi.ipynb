{
 "cells": [
  {
   "cell_type": "markdown",
   "id": "40c37f71-46db-4e05-974b-7dc9dd2bb035",
   "metadata": {},
   "source": [
    "# Lab-4: Probability\n",
    "\n",
    "### By Mohan Bakshi"
   ]
  },
  {
   "cell_type": "code",
   "execution_count": 2,
   "id": "b64a8322-8697-4f01-aa71-851d37c58b53",
   "metadata": {},
   "outputs": [],
   "source": [
    "# Importing packages\n",
    "import numpy as np\n",
    "import pandas as pd\n",
    "import matplotlib.pyplot as plt\n",
    "from scipy import stats\n",
    "from IPython.display import display"
   ]
  },
  {
   "cell_type": "code",
   "execution_count": 3,
   "id": "0275daa8-1b69-4bdd-a7f4-a707bbffbf27",
   "metadata": {},
   "outputs": [],
   "source": [
    "# importing the dataset from a csv file using pandas\n",
    "df = pd.read_csv('insurance.csv')"
   ]
  },
  {
   "cell_type": "code",
   "execution_count": 4,
   "id": "00830805-cfde-4532-8aa2-2f0cc127094d",
   "metadata": {},
   "outputs": [
    {
     "name": "stdout",
     "output_type": "stream",
     "text": [
      "(1338, 7)\n"
     ]
    },
    {
     "data": {
      "text/html": [
       "<div>\n",
       "<style scoped>\n",
       "    .dataframe tbody tr th:only-of-type {\n",
       "        vertical-align: middle;\n",
       "    }\n",
       "\n",
       "    .dataframe tbody tr th {\n",
       "        vertical-align: top;\n",
       "    }\n",
       "\n",
       "    .dataframe thead th {\n",
       "        text-align: right;\n",
       "    }\n",
       "</style>\n",
       "<table border=\"1\" class=\"dataframe\">\n",
       "  <thead>\n",
       "    <tr style=\"text-align: right;\">\n",
       "      <th></th>\n",
       "      <th>age</th>\n",
       "      <th>sex</th>\n",
       "      <th>bmi</th>\n",
       "      <th>children</th>\n",
       "      <th>smoker</th>\n",
       "      <th>region</th>\n",
       "      <th>charges</th>\n",
       "    </tr>\n",
       "  </thead>\n",
       "  <tbody>\n",
       "    <tr>\n",
       "      <th>0</th>\n",
       "      <td>19</td>\n",
       "      <td>female</td>\n",
       "      <td>27.900</td>\n",
       "      <td>0</td>\n",
       "      <td>yes</td>\n",
       "      <td>southwest</td>\n",
       "      <td>16884.92400</td>\n",
       "    </tr>\n",
       "    <tr>\n",
       "      <th>1</th>\n",
       "      <td>18</td>\n",
       "      <td>male</td>\n",
       "      <td>33.770</td>\n",
       "      <td>1</td>\n",
       "      <td>no</td>\n",
       "      <td>southeast</td>\n",
       "      <td>1725.55230</td>\n",
       "    </tr>\n",
       "    <tr>\n",
       "      <th>2</th>\n",
       "      <td>28</td>\n",
       "      <td>male</td>\n",
       "      <td>33.000</td>\n",
       "      <td>3</td>\n",
       "      <td>no</td>\n",
       "      <td>southeast</td>\n",
       "      <td>4449.46200</td>\n",
       "    </tr>\n",
       "    <tr>\n",
       "      <th>3</th>\n",
       "      <td>33</td>\n",
       "      <td>male</td>\n",
       "      <td>22.705</td>\n",
       "      <td>0</td>\n",
       "      <td>no</td>\n",
       "      <td>northwest</td>\n",
       "      <td>21984.47061</td>\n",
       "    </tr>\n",
       "    <tr>\n",
       "      <th>4</th>\n",
       "      <td>32</td>\n",
       "      <td>male</td>\n",
       "      <td>28.880</td>\n",
       "      <td>0</td>\n",
       "      <td>no</td>\n",
       "      <td>northwest</td>\n",
       "      <td>3866.85520</td>\n",
       "    </tr>\n",
       "    <tr>\n",
       "      <th>5</th>\n",
       "      <td>31</td>\n",
       "      <td>female</td>\n",
       "      <td>25.740</td>\n",
       "      <td>0</td>\n",
       "      <td>no</td>\n",
       "      <td>southeast</td>\n",
       "      <td>3756.62160</td>\n",
       "    </tr>\n",
       "    <tr>\n",
       "      <th>6</th>\n",
       "      <td>46</td>\n",
       "      <td>female</td>\n",
       "      <td>33.440</td>\n",
       "      <td>1</td>\n",
       "      <td>no</td>\n",
       "      <td>southeast</td>\n",
       "      <td>8240.58960</td>\n",
       "    </tr>\n",
       "    <tr>\n",
       "      <th>7</th>\n",
       "      <td>37</td>\n",
       "      <td>female</td>\n",
       "      <td>27.740</td>\n",
       "      <td>3</td>\n",
       "      <td>no</td>\n",
       "      <td>northwest</td>\n",
       "      <td>7281.50560</td>\n",
       "    </tr>\n",
       "    <tr>\n",
       "      <th>8</th>\n",
       "      <td>37</td>\n",
       "      <td>male</td>\n",
       "      <td>29.830</td>\n",
       "      <td>2</td>\n",
       "      <td>no</td>\n",
       "      <td>northeast</td>\n",
       "      <td>6406.41070</td>\n",
       "    </tr>\n",
       "    <tr>\n",
       "      <th>9</th>\n",
       "      <td>60</td>\n",
       "      <td>female</td>\n",
       "      <td>25.840</td>\n",
       "      <td>0</td>\n",
       "      <td>no</td>\n",
       "      <td>northwest</td>\n",
       "      <td>28923.13692</td>\n",
       "    </tr>\n",
       "  </tbody>\n",
       "</table>\n",
       "</div>"
      ],
      "text/plain": [
       "   age     sex     bmi  children smoker     region      charges\n",
       "0   19  female  27.900         0    yes  southwest  16884.92400\n",
       "1   18    male  33.770         1     no  southeast   1725.55230\n",
       "2   28    male  33.000         3     no  southeast   4449.46200\n",
       "3   33    male  22.705         0     no  northwest  21984.47061\n",
       "4   32    male  28.880         0     no  northwest   3866.85520\n",
       "5   31  female  25.740         0     no  southeast   3756.62160\n",
       "6   46  female  33.440         1     no  southeast   8240.58960\n",
       "7   37  female  27.740         3     no  northwest   7281.50560\n",
       "8   37    male  29.830         2     no  northeast   6406.41070\n",
       "9   60  female  25.840         0     no  northwest  28923.13692"
      ]
     },
     "execution_count": 4,
     "metadata": {},
     "output_type": "execute_result"
    }
   ],
   "source": [
    "print(df.shape)\n",
    "df.head(10)"
   ]
  },
  {
   "cell_type": "markdown",
   "id": "1725fce2-45a7-4e6b-9584-65df6a85dd49",
   "metadata": {},
   "source": [
    "### An insurance expert said that overall, the insurance charges for men is higher than the insurance charges for women"
   ]
  },
  {
   "cell_type": "code",
   "execution_count": 85,
   "id": "45fa6548-9093-4072-986a-4cae595fa48d",
   "metadata": {},
   "outputs": [
    {
     "name": "stdout",
     "output_type": "stream",
     "text": [
      "Insurance charges for Men Average: 13956.751177721893\n",
      "Insurance charges for Women Average: 12569.578843835347\n",
      "Insurance charges for Women Standard Deviation: 11128.703800915438\n",
      "z-score:  0.12464814938936905\n",
      "\n",
      "\n",
      " P(Z > z_score) = 0.450401\n"
     ]
    }
   ],
   "source": [
    "isurance_charges_men_avg = df[df.sex == 'male']['charges'].mean()\n",
    "isurance_charges_women_avg = df[df.sex == 'female']['charges'].mean()\n",
    "isurance_charges_women_std = df[df.sex == 'female']['charges'].std()\n",
    "\n",
    "z_score_women = (isurance_charges_men_avg - isurance_charges_women_avg) / isurance_charges_women_std\n",
    "\n",
    "print(f\"Insurance charges for Men Average: {isurance_charges_men_avg}\")\n",
    "print(f\"Insurance charges for Women Average: {isurance_charges_women_avg}\")\n",
    "print(f\"Insurance charges for Women Standard Deviation: {isurance_charges_women_std}\")\n",
    "print(f\"z-score: \",z_score_women)\n",
    "\n",
    "P_less_than_qual_to_z_score = stats.norm.cdf(z_score_women)\n",
    "P_greater_than_z_score = 1 - P_less_than_qual_to_z_score\n",
    "print(f'\\n\\n P(Z > z_score) = {\"{:.6f}\".format(P_greater_than_z_score)}')"
   ]
  },
  {
   "cell_type": "markdown",
   "id": "cc5e93d6-c3ea-4651-9b70-ce65820b17bb",
   "metadata": {},
   "source": [
    "- <b>Based on the p-value of 0.450401, which is greater than the typical significance level of 0.05 , we would not reject the claim that the insurance charges for men is higher than the insurance charges for women.</b>"
   ]
  },
  {
   "cell_type": "markdown",
   "id": "8547321c-7ddf-44c2-b79f-67d74a0e7bb1",
   "metadata": {},
   "source": [
    "### An insurance expert said that overall, the insurance charges for people in ‘southwest’ region is higher than the insurance charges for people in the ‘northwest’ region"
   ]
  },
  {
   "cell_type": "code",
   "execution_count": 86,
   "id": "ba1544fc-4b3e-4e8e-bb7c-c1c2d5b3bda1",
   "metadata": {},
   "outputs": [
    {
     "name": "stdout",
     "output_type": "stream",
     "text": [
      "Insurance charges for Southwest Region Average: 12346.937377292308\n",
      "Insurance charges for Northwest Region Average: 12417.57537396923\n",
      "Insurance charges for Northwest Region Standard Deviation: 11072.276927579976\n",
      "z-score:  -0.006379717301052088\n",
      "\n",
      "\n",
      " P(Z > z_score) = 0.502545\n"
     ]
    }
   ],
   "source": [
    "isurance_charges_southwest_avg = df[df.region == 'southwest']['charges'].mean()\n",
    "isurance_charges_northwest_avg = df[df.region == 'northwest']['charges'].mean()\n",
    "isurance_charges_northwest_std = df[df.region == 'northwest']['charges'].std()\n",
    "\n",
    "z_score_region = (isurance_charges_southwest_avg\n",
    "                  - isurance_charges_northwest_avg) / isurance_charges_northwest_std\n",
    "\n",
    "print(f\"Insurance charges for Southwest Region Average: {isurance_charges_southwest_avg}\")\n",
    "print(f\"Insurance charges for Northwest Region Average: {isurance_charges_northwest_avg}\")\n",
    "print(f\"Insurance charges for Northwest Region Standard Deviation: {isurance_charges_northwes_std}\")\n",
    "print(f\"z-score: \",z_score_region)\n",
    "\n",
    "\n",
    "P_less_than_qual_to_z_score = stats.norm.cdf(z_score_region)\n",
    "P_greater_than_z_score = 1 - P_less_than_qual_to_z_score\n",
    "print(f'\\n\\n P(Z > z_score) = {\"{:.6f}\".format(P_greater_than_z_score)}')"
   ]
  },
  {
   "cell_type": "markdown",
   "id": "f4f4000d-dfc7-44aa-8405-5015b3282ab4",
   "metadata": {},
   "source": [
    "- Based on the Z-score (-0.006) which indicate that the average insurance charges for the Southwest region are slightly lower than the average charge for the Northwest region. Moreover, Based on Probability interpretation P(Z > z_score), The probability that the insurance charges for the Southwest Region are greater than the charges for the Northwest Region is 0.502545 (approximately 50.25%). This means that there's a 50.25% chance that the average charges for the Southwest Region are greater than those for the Northwest Region.\n",
    "  \n",
    "- However, Since the p-value of 0.502545, which is greater than the typical significance level of 0.05 , we could not reject the claim that the insurance charges for people in ‘southwest’ region is higher than the insurance charges for people in the ‘northwest’ region.\n"
   ]
  },
  {
   "cell_type": "markdown",
   "id": "b19461c8-6adf-43eb-9de4-3275db7d8ea3",
   "metadata": {},
   "source": [
    "### An insurance expert said that overall, the insurance charges for people having 0 children is higher than the insurance charges for people having children."
   ]
  },
  {
   "cell_type": "code",
   "execution_count": 87,
   "id": "9fb605e5-a162-43b4-bc62-bce7bfccf81f",
   "metadata": {},
   "outputs": [
    {
     "name": "stdout",
     "output_type": "stream",
     "text": [
      "Insurance charges for Zero Children Average: 12365.97560163589\n",
      "Insurance charges for Non Zero Children Average: 13949.941093481675\n",
      "Insurance charges for Non Zero Children Standard Deviation: 12138.305910566816\n",
      "z-score:  -0.13049312676053818\n",
      "\n",
      "\n",
      " P(Z > z_score) = 0.551912\n"
     ]
    }
   ],
   "source": [
    "isurance_charges_zero_children_avg = df[df.children == 0]['charges'].mean()\n",
    "isurance_charges_non_zero_children_avg = df[df.children != 0]['charges'].mean()\n",
    "isurance_charges_non_zero_children_std = df[df.children != 0]['charges'].std()\n",
    "\n",
    "z_score_children = (isurance_charges_zero_children_avg\n",
    "                  - isurance_charges_non_zero_children_avg) / isurance_charges_non_zero_children_std\n",
    "\n",
    "print(f\"Insurance charges for Zero Children Average: {isurance_charges_zero_children_avg}\")\n",
    "print(f\"Insurance charges for Non Zero Children Average: {isurance_charges_non_zero_children_avg}\")\n",
    "print(f\"Insurance charges for Non Zero Children Standard Deviation: {isurance_charges_non_zero_children_std}\")\n",
    "print(f\"z-score: \",z_score_children)\n",
    "\n",
    "\n",
    "P_less_than_qual_to_z_score = stats.norm.cdf(z_score_children)\n",
    "P_greater_than_z_score = 1 - P_less_than_qual_to_z_score\n",
    "print(f'\\n\\n P(Z > z_score) = {\"{:.6f}\".format(P_greater_than_z_score)}')"
   ]
  },
  {
   "cell_type": "markdown",
   "id": "3af8fa35-00a2-4980-9cbb-3fe4ad9ae060",
   "metadata": {},
   "source": [
    "- Based on the Z-score (-0.130) which indicate the average insurance charges for people with Zero Children are slightly lower than the average charges for people with Childrens, but the difference is very small. Moreover, Based on Probability interpretation P(Z > z_score), The probability that the insurance charges for people with Zero Children are greater than the charges for people with Childrens is 0.551912 (approximately 55.2%). This means that there's a 55.2% chance that the average charges for people with Zero Children are greater than those for people with Childrens.\n",
    "  \n",
    "- However, Since the p-value is greater than the significance value (0.551912 > 0.05), we could not reject the claim that the insurance charges for people having 0 children is higher than the insurance charges for people having childrens.\n"
   ]
  },
  {
   "cell_type": "code",
   "execution_count": null,
   "id": "73ce2d14-92cc-40f4-9f97-7f0237864250",
   "metadata": {},
   "outputs": [],
   "source": []
  }
 ],
 "metadata": {
  "kernelspec": {
   "display_name": "Python 3 (ipykernel)",
   "language": "python",
   "name": "python3"
  },
  "language_info": {
   "codemirror_mode": {
    "name": "ipython",
    "version": 3
   },
   "file_extension": ".py",
   "mimetype": "text/x-python",
   "name": "python",
   "nbconvert_exporter": "python",
   "pygments_lexer": "ipython3",
   "version": "3.12.1"
  }
 },
 "nbformat": 4,
 "nbformat_minor": 5
}
