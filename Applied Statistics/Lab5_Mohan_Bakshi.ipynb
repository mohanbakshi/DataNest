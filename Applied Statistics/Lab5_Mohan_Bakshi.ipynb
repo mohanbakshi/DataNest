{
 "cells": [
  {
   "cell_type": "markdown",
   "id": "80b65fc8-4719-4d56-89d8-f154660d46b6",
   "metadata": {},
   "source": [
    "# Lab-5: Statistical Estimation and Hypothesis Testing for Population Proportion\n",
    "\n",
    "### By Mohan Bakshi"
   ]
  },
  {
   "cell_type": "code",
   "execution_count": 1,
   "id": "a7dba557-8c7e-437f-b6a9-6e85925e65ef",
   "metadata": {},
   "outputs": [],
   "source": [
    "import numpy as np\n",
    "import matplotlib.pyplot as plt\n",
    "import scipy.stats as stats\n",
    "import pandas as pd\n",
    "from IPython.display import display"
   ]
  },
  {
   "cell_type": "code",
   "execution_count": 2,
   "id": "b90a7d6a-513e-4b2d-a647-b420c3e18663",
   "metadata": {},
   "outputs": [],
   "source": [
    "# Importing cleaned_census_income dataset\n",
    "census_income_df = pd.read_csv('cleaned_census_income.csv')"
   ]
  },
  {
   "cell_type": "code",
   "execution_count": 3,
   "id": "592935ec-dea3-4b0c-af5e-6b8a83976363",
   "metadata": {},
   "outputs": [
    {
     "name": "stdout",
     "output_type": "stream",
     "text": [
      "(30162, 15)\n"
     ]
    },
    {
     "data": {
      "text/html": [
       "<div>\n",
       "<style scoped>\n",
       "    .dataframe tbody tr th:only-of-type {\n",
       "        vertical-align: middle;\n",
       "    }\n",
       "\n",
       "    .dataframe tbody tr th {\n",
       "        vertical-align: top;\n",
       "    }\n",
       "\n",
       "    .dataframe thead th {\n",
       "        text-align: right;\n",
       "    }\n",
       "</style>\n",
       "<table border=\"1\" class=\"dataframe\">\n",
       "  <thead>\n",
       "    <tr style=\"text-align: right;\">\n",
       "      <th></th>\n",
       "      <th>age</th>\n",
       "      <th>workclass</th>\n",
       "      <th>fnlwgt</th>\n",
       "      <th>education</th>\n",
       "      <th>education.num</th>\n",
       "      <th>marital.status</th>\n",
       "      <th>occupation</th>\n",
       "      <th>relationship</th>\n",
       "      <th>race</th>\n",
       "      <th>sex</th>\n",
       "      <th>capital.gain</th>\n",
       "      <th>capital.loss</th>\n",
       "      <th>hours.per.week</th>\n",
       "      <th>native.country</th>\n",
       "      <th>income</th>\n",
       "    </tr>\n",
       "  </thead>\n",
       "  <tbody>\n",
       "    <tr>\n",
       "      <th>0</th>\n",
       "      <td>82</td>\n",
       "      <td>Private</td>\n",
       "      <td>132870</td>\n",
       "      <td>HS-grad</td>\n",
       "      <td>9</td>\n",
       "      <td>Widowed</td>\n",
       "      <td>Exec-managerial</td>\n",
       "      <td>Not-in-family</td>\n",
       "      <td>White</td>\n",
       "      <td>Female</td>\n",
       "      <td>0</td>\n",
       "      <td>4356</td>\n",
       "      <td>18</td>\n",
       "      <td>United-States</td>\n",
       "      <td>&lt;=50K</td>\n",
       "    </tr>\n",
       "    <tr>\n",
       "      <th>1</th>\n",
       "      <td>54</td>\n",
       "      <td>Private</td>\n",
       "      <td>140359</td>\n",
       "      <td>7th-8th</td>\n",
       "      <td>4</td>\n",
       "      <td>Divorced</td>\n",
       "      <td>Machine-op-inspct</td>\n",
       "      <td>Unmarried</td>\n",
       "      <td>White</td>\n",
       "      <td>Female</td>\n",
       "      <td>0</td>\n",
       "      <td>3900</td>\n",
       "      <td>40</td>\n",
       "      <td>United-States</td>\n",
       "      <td>&lt;=50K</td>\n",
       "    </tr>\n",
       "    <tr>\n",
       "      <th>2</th>\n",
       "      <td>41</td>\n",
       "      <td>Private</td>\n",
       "      <td>264663</td>\n",
       "      <td>Some-college</td>\n",
       "      <td>10</td>\n",
       "      <td>Separated</td>\n",
       "      <td>Prof-specialty</td>\n",
       "      <td>Own-child</td>\n",
       "      <td>White</td>\n",
       "      <td>Female</td>\n",
       "      <td>0</td>\n",
       "      <td>3900</td>\n",
       "      <td>40</td>\n",
       "      <td>United-States</td>\n",
       "      <td>&lt;=50K</td>\n",
       "    </tr>\n",
       "    <tr>\n",
       "      <th>3</th>\n",
       "      <td>34</td>\n",
       "      <td>Private</td>\n",
       "      <td>216864</td>\n",
       "      <td>HS-grad</td>\n",
       "      <td>9</td>\n",
       "      <td>Divorced</td>\n",
       "      <td>Other-service</td>\n",
       "      <td>Unmarried</td>\n",
       "      <td>White</td>\n",
       "      <td>Female</td>\n",
       "      <td>0</td>\n",
       "      <td>3770</td>\n",
       "      <td>45</td>\n",
       "      <td>United-States</td>\n",
       "      <td>&lt;=50K</td>\n",
       "    </tr>\n",
       "    <tr>\n",
       "      <th>4</th>\n",
       "      <td>38</td>\n",
       "      <td>Private</td>\n",
       "      <td>150601</td>\n",
       "      <td>10th</td>\n",
       "      <td>6</td>\n",
       "      <td>Separated</td>\n",
       "      <td>Adm-clerical</td>\n",
       "      <td>Unmarried</td>\n",
       "      <td>White</td>\n",
       "      <td>Male</td>\n",
       "      <td>0</td>\n",
       "      <td>3770</td>\n",
       "      <td>40</td>\n",
       "      <td>United-States</td>\n",
       "      <td>&lt;=50K</td>\n",
       "    </tr>\n",
       "    <tr>\n",
       "      <th>5</th>\n",
       "      <td>74</td>\n",
       "      <td>State-gov</td>\n",
       "      <td>88638</td>\n",
       "      <td>Doctorate</td>\n",
       "      <td>16</td>\n",
       "      <td>Never-married</td>\n",
       "      <td>Prof-specialty</td>\n",
       "      <td>Other-relative</td>\n",
       "      <td>White</td>\n",
       "      <td>Female</td>\n",
       "      <td>0</td>\n",
       "      <td>3683</td>\n",
       "      <td>20</td>\n",
       "      <td>United-States</td>\n",
       "      <td>&gt;50K</td>\n",
       "    </tr>\n",
       "    <tr>\n",
       "      <th>6</th>\n",
       "      <td>68</td>\n",
       "      <td>Federal-gov</td>\n",
       "      <td>422013</td>\n",
       "      <td>HS-grad</td>\n",
       "      <td>9</td>\n",
       "      <td>Divorced</td>\n",
       "      <td>Prof-specialty</td>\n",
       "      <td>Not-in-family</td>\n",
       "      <td>White</td>\n",
       "      <td>Female</td>\n",
       "      <td>0</td>\n",
       "      <td>3683</td>\n",
       "      <td>40</td>\n",
       "      <td>United-States</td>\n",
       "      <td>&lt;=50K</td>\n",
       "    </tr>\n",
       "    <tr>\n",
       "      <th>7</th>\n",
       "      <td>45</td>\n",
       "      <td>Private</td>\n",
       "      <td>172274</td>\n",
       "      <td>Doctorate</td>\n",
       "      <td>16</td>\n",
       "      <td>Divorced</td>\n",
       "      <td>Prof-specialty</td>\n",
       "      <td>Unmarried</td>\n",
       "      <td>Black</td>\n",
       "      <td>Female</td>\n",
       "      <td>0</td>\n",
       "      <td>3004</td>\n",
       "      <td>35</td>\n",
       "      <td>United-States</td>\n",
       "      <td>&gt;50K</td>\n",
       "    </tr>\n",
       "    <tr>\n",
       "      <th>8</th>\n",
       "      <td>38</td>\n",
       "      <td>Self-emp-not-inc</td>\n",
       "      <td>164526</td>\n",
       "      <td>Prof-school</td>\n",
       "      <td>15</td>\n",
       "      <td>Never-married</td>\n",
       "      <td>Prof-specialty</td>\n",
       "      <td>Not-in-family</td>\n",
       "      <td>White</td>\n",
       "      <td>Male</td>\n",
       "      <td>0</td>\n",
       "      <td>2824</td>\n",
       "      <td>45</td>\n",
       "      <td>United-States</td>\n",
       "      <td>&gt;50K</td>\n",
       "    </tr>\n",
       "    <tr>\n",
       "      <th>9</th>\n",
       "      <td>52</td>\n",
       "      <td>Private</td>\n",
       "      <td>129177</td>\n",
       "      <td>Bachelors</td>\n",
       "      <td>13</td>\n",
       "      <td>Widowed</td>\n",
       "      <td>Other-service</td>\n",
       "      <td>Not-in-family</td>\n",
       "      <td>White</td>\n",
       "      <td>Female</td>\n",
       "      <td>0</td>\n",
       "      <td>2824</td>\n",
       "      <td>20</td>\n",
       "      <td>United-States</td>\n",
       "      <td>&gt;50K</td>\n",
       "    </tr>\n",
       "  </tbody>\n",
       "</table>\n",
       "</div>"
      ],
      "text/plain": [
       "   age         workclass  fnlwgt     education  education.num marital.status  \\\n",
       "0   82           Private  132870       HS-grad              9        Widowed   \n",
       "1   54           Private  140359       7th-8th              4       Divorced   \n",
       "2   41           Private  264663  Some-college             10      Separated   \n",
       "3   34           Private  216864       HS-grad              9       Divorced   \n",
       "4   38           Private  150601          10th              6      Separated   \n",
       "5   74         State-gov   88638     Doctorate             16  Never-married   \n",
       "6   68       Federal-gov  422013       HS-grad              9       Divorced   \n",
       "7   45           Private  172274     Doctorate             16       Divorced   \n",
       "8   38  Self-emp-not-inc  164526   Prof-school             15  Never-married   \n",
       "9   52           Private  129177     Bachelors             13        Widowed   \n",
       "\n",
       "          occupation    relationship   race     sex  capital.gain  \\\n",
       "0    Exec-managerial   Not-in-family  White  Female             0   \n",
       "1  Machine-op-inspct       Unmarried  White  Female             0   \n",
       "2     Prof-specialty       Own-child  White  Female             0   \n",
       "3      Other-service       Unmarried  White  Female             0   \n",
       "4       Adm-clerical       Unmarried  White    Male             0   \n",
       "5     Prof-specialty  Other-relative  White  Female             0   \n",
       "6     Prof-specialty   Not-in-family  White  Female             0   \n",
       "7     Prof-specialty       Unmarried  Black  Female             0   \n",
       "8     Prof-specialty   Not-in-family  White    Male             0   \n",
       "9      Other-service   Not-in-family  White  Female             0   \n",
       "\n",
       "   capital.loss  hours.per.week native.country income  \n",
       "0          4356              18  United-States  <=50K  \n",
       "1          3900              40  United-States  <=50K  \n",
       "2          3900              40  United-States  <=50K  \n",
       "3          3770              45  United-States  <=50K  \n",
       "4          3770              40  United-States  <=50K  \n",
       "5          3683              20  United-States   >50K  \n",
       "6          3683              40  United-States  <=50K  \n",
       "7          3004              35  United-States   >50K  \n",
       "8          2824              45  United-States   >50K  \n",
       "9          2824              20  United-States   >50K  "
      ]
     },
     "execution_count": 3,
     "metadata": {},
     "output_type": "execute_result"
    }
   ],
   "source": [
    "print(census_income_df.shape)\n",
    "census_income_df.head(10)"
   ]
  },
  {
   "cell_type": "code",
   "execution_count": 11,
   "id": "5f72f93c-b934-4e5c-9043-e35b715b306d",
   "metadata": {},
   "outputs": [
    {
     "name": "stdout",
     "output_type": "stream",
     "text": [
      "Quantitative columns are: ['age', 'hours.per.week', 'education.num', 'capital.loss', 'fnlwgt', 'capital.gain']\n",
      "Categorical columns are: ['marital.status', 'workclass', 'education', 'sex', 'occupation', 'race', 'native.country', 'income', 'relationship']\n"
     ]
    }
   ],
   "source": [
    "# Classifying column into categorical and quantitaive columns\n",
    "\n",
    "def check_columns(df: pd.DataFrame):\n",
    "    columns = df.columns\n",
    "    quantitative_columns = list(set(df._get_numeric_data().columns))\n",
    "    categorical_columns = list(set(columns) - set(quantitative_columns))\n",
    "    return quantitative_columns, categorical_columns\n",
    "\n",
    "quan_cols, cat_cols = check_columns(census_income_df)\n",
    "print(f'Quantitative columns are: {quan_cols}')\n",
    "print(f'Categorical columns are: {cat_cols}')"
   ]
  },
  {
   "cell_type": "markdown",
   "id": "eca1b005-a943-4f21-ab1d-7efd3f3158f4",
   "metadata": {},
   "source": [
    "### Question 1"
   ]
  },
  {
   "cell_type": "markdown",
   "id": "21eb7ae3-b05e-4fae-8055-eef1949242a7",
   "metadata": {},
   "source": [
    "The US Department of Labor is interested in studying the population proportion of American adults who work for the workclass = Private sector and have an annual income greater than 50k.\n",
    "- Denote X as the variable for American adults who work for the Private sector and have an annual Income greater than 50k (‘>50K’)\n",
    "- Based on the sample dataset, estimate point estimation for population proportion of X\n",
    "- Based on the sample dataset, estimate 95% confidence interval for population proportion of X\n",
    "- A recent study claimed that the percentage of American adults working for the Private sector and having Income > 50K was very low in the 1990s, just about 25%. The head of the US Department of Labor believes that the percentage should be much higher. Based on this sample dataset, conduct a hypothesis testing for the population proportion of X to draw conclusions about those statements."
   ]
  },
  {
   "cell_type": "code",
   "execution_count": 5,
   "id": "fa4ae7fb-ab88-4b79-ae31-0aa476d4b7d0",
   "metadata": {},
   "outputs": [
    {
     "name": "stdout",
     "output_type": "stream",
     "text": [
      "\n",
      "American adults who work for the Private sector and have an annual Income greater than 50k (‘>50K’): 0.1617\n",
      "\n",
      "The Confidence Level: 0.95\n",
      "\n",
      "Z score corresponding to the confidence level: 1.9600\n",
      "\n",
      "Standard Error: 0.0021\n",
      "\n",
      "Margin of Error: 0.0042\n",
      "\n",
      "95% Confidence Interval for Population Proportion of X: \n",
      " Lower Bound = 0.1575 \n",
      " Upper Bound = 0.1658\n"
     ]
    }
   ],
   "source": [
    "# Calculating the sample proportion\n",
    "p_hat_X = len(census_income_df[(census_income_df['workclass'] == 'Private') & (census_income_df['income'] == '>50K')]) / len(census_income_df)\n",
    "print(f'\\nAmerican adults who work for the Private sector and have an annual Income greater than 50k (‘>50K’): {p_hat_X:.4f}')\n",
    "\n",
    "# Defining the confidence level\n",
    "confidence_level_X = 0.95\n",
    "print(f'\\nThe Confidence Level: {confidence_level_X}')\n",
    "\n",
    "# Calculating the z-score corresponding to the confidence level\n",
    "z_score_X = stats.norm.ppf((1 + confidence_level_X) / 2)\n",
    "print(f'\\nZ score corresponding to the confidence level: {z_score_X:.4f}')\n",
    "\n",
    "# Calculating the standard error\n",
    "std_error_X = np.sqrt(p_hat_X * (1 - p_hat_X) / len(census_income_df))\n",
    "print(f'\\nStandard Error: {std_error_X:.4f}')\n",
    "\n",
    "# Calculating the margin of error\n",
    "margin_of_error_X = z_score_X * std_error_X\n",
    "print(f'\\nMargin of Error: {margin_of_error_X:.4f}')\n",
    "\n",
    "# Calculating the lower and upper bounds of the confidence interval\n",
    "lower_bound_X = p_hat_X - margin_of_error_X\n",
    "upper_bound_X = p_hat_X + margin_of_error_X\n",
    "print(f\"\\n95% Confidence Interval for Population Proportion of X: \\n Lower Bound = {lower_bound_X:.4f} \\n Upper Bound = {upper_bound_X:.4f}\")"
   ]
  },
  {
   "cell_type": "markdown",
   "id": "d431a8ee-5507-43c4-9f05-87eaf7880609",
   "metadata": {},
   "source": [
    "Since the point estimate (0.1617) falls within the confidence interval (0.1575 - 0.1658 ), we can conclude that there is evidence to support that the true population proportion of American adults working for the Private sector and having Income > 50K is likely to be between 15.75% and 16.58% with a confidence level of 95%."
   ]
  },
  {
   "cell_type": "markdown",
   "id": "c35b5311-d4bb-4faa-a1ae-02fb22742cdd",
   "metadata": {},
   "source": [
    "#### Hypothesis testing for population proportion\n",
    "\n",
    "##### Step1: State the Hypotheses:\n",
    "\n",
    "- Null Hypothesis (Ho): The population proportion of American adults working for the Private sector and having Income > 50K is 25%.\n",
    "- Alternative Hypothesis (Ha): The population proportion of American adults working for the Private sector and having Income > 50K is greater than 25%.\n",
    "\n",
    "___H0 : p0 = p = 0.25___\n",
    "\n",
    "___Ha: p > 0.25___"
   ]
  },
  {
   "cell_type": "markdown",
   "id": "873c7acd-0ef9-4d47-ad03-9603555b7c42",
   "metadata": {},
   "source": [
    "##### Step2: Collecting and summarizing data using test statistics z-score"
   ]
  },
  {
   "cell_type": "code",
   "execution_count": 6,
   "id": "6fc7868a-e3ad-40c8-85d4-b4d4b363e39a",
   "metadata": {},
   "outputs": [
    {
     "name": "stdout",
     "output_type": "stream",
     "text": [
      "Z-Score: -35.4311\n"
     ]
    }
   ],
   "source": [
    "# Calculating z-score\n",
    "p0 = 0.25\n",
    "z_score = (p_hat_X - p0) / np.sqrt((p0 * (1 - p0) / len(census_income_df)))\n",
    "\n",
    "print(f\"Z-Score: {z_score:.4f}\")"
   ]
  },
  {
   "cell_type": "markdown",
   "id": "fcecb1ce-fd3b-4d78-84eb-e1b67a78f9b7",
   "metadata": {},
   "source": [
    "##### Step3: Finding the p-Value of the Test"
   ]
  },
  {
   "cell_type": "code",
   "execution_count": 7,
   "id": "52a7236f-8ee4-4ae2-99eb-21ec24bcebe4",
   "metadata": {},
   "outputs": [
    {
     "name": "stdout",
     "output_type": "stream",
     "text": [
      "P(Z > z_score): 1.0000\n"
     ]
    }
   ],
   "source": [
    "# Calculating p-value\n",
    "p_value_X = 1 - stats.norm.cdf(z_score)\n",
    "\n",
    "print(f\"P(Z > z_score): {p_value_X:.4f}\")"
   ]
  },
  {
   "cell_type": "markdown",
   "id": "22d833c1-5c1c-4f7c-97ef-0343545d2d6b",
   "metadata": {},
   "source": [
    "With a z-score of -35.4311 and a calculated p-value ('P(Z > z_score)') of 1.0000, which is greater than the significance level of 0.05, we fail to reject the null hypothesis that the population proportion of American adults working for the Private sector and having Income > 50K = 25%."
   ]
  },
  {
   "cell_type": "markdown",
   "id": "9104d1bd-6a67-46d9-9c78-1c460ccd9d06",
   "metadata": {},
   "source": [
    "### Question 2"
   ]
  },
  {
   "cell_type": "markdown",
   "id": "b36e2442-a3b1-4df7-8a8b-30e60b9687bd",
   "metadata": {},
   "source": [
    "The US Department of Labor is also interested in studying the population proportion of American adults who work for the workclass Private and have education = Bachelors in the 1990s.\n",
    "- Denote Y as the variable for American adults who work for the workclass = Private and have education = Bachelors.\n",
    "- Based on the sample dataset, estimate point estimation for population proportion of Y\n",
    "- Based on the sample dataset, estimate confidence interval for population proportion of Y\n",
    "- A recent study claimed that the percentage of American adults who work for the workclass = Private and have education = Bachelors in the 1990s, just about 5%. The head of the US Department of Labor believes that the percentage should be much higher. Based on this dataset sample, conduct a hypothesis testing for the population proportion of Y to draw conclusions about those statements."
   ]
  },
  {
   "cell_type": "code",
   "execution_count": 8,
   "id": "17ebc24d-5bef-48cb-9e97-39de5dcca79e",
   "metadata": {},
   "outputs": [
    {
     "name": "stdout",
     "output_type": "stream",
     "text": [
      "\n",
      "American adults who work for the Private sector and have an education = \"Bachelors\": 0.1145\n",
      "\n",
      "The Confidence Level: 0.95\n",
      "\n",
      "Z score corresponding to the confidence level: 1.9600\n",
      "\n",
      "Standard Error: 0.0018\n",
      "\n",
      "Margin of Error: 0.0036\n",
      "\n",
      "95% Confidence Interval for Population Proportion of Y: \n",
      " Lower Bound = 0.1110 \n",
      " Upper Bound = 0.1181\n"
     ]
    }
   ],
   "source": [
    "# Calculating the sample proportion\n",
    "p_hat_Y= len(census_income_df[(census_income_df['workclass'] == 'Private') & (census_income_df['education'] == 'Bachelors')]) / len(census_income_df)\n",
    "print(f'\\nAmerican adults who work for the Private sector and have an education = \"Bachelors\": {p_hat_Y:.4f}')\n",
    "\n",
    "# Defining the confidence level\n",
    "confidence_level_Y = 0.95\n",
    "print(f'\\nThe Confidence Level: {confidence_level_Y}')\n",
    "\n",
    "# Calculating the z-score corresponding to the confidence level\n",
    "z_score_Y = stats.norm.ppf((1 + confidence_level_Y) / 2)\n",
    "print(f'\\nZ score corresponding to the confidence level: {z_score_Y:.4f}')\n",
    "\n",
    "# Calculating the standard error\n",
    "std_error_Y = np.sqrt(p_hat_Y * (1 - p_hat_Y) / len(census_income_df))\n",
    "print(f'\\nStandard Error: {std_error_Y:.4f}')\n",
    "\n",
    "# Calculating the margin of error\n",
    "margin_of_error_Y = z_score_Y * std_error_Y\n",
    "print(f'\\nMargin of Error: {margin_of_error_Y:.4f}')\n",
    "\n",
    "# Calculating the lower and upper bounds of the confidence interval\n",
    "lower_bound_Y = p_hat_Y - margin_of_error_Y\n",
    "upper_bound_Y = p_hat_Y + margin_of_error_Y\n",
    "print(f\"\\n95% Confidence Interval for Population Proportion of Y: \\n Lower Bound = {lower_bound_Y:.4f} \\n Upper Bound = {upper_bound_Y:.4f}\")"
   ]
  },
  {
   "cell_type": "markdown",
   "id": "f7931e26-6e4f-4173-bede-1595cd3accb0",
   "metadata": {},
   "source": [
    "Since the point estimate (0.1145) falls within the confidence interval (0.1110 - 0.1181 ), we can conclude that there is evidence to support that the true population proportion of American adults working for the Private sector and having an education level of \"Bachelors\" is likely to be between 11.10% and 11.81% with a confidence level of 95%."
   ]
  },
  {
   "cell_type": "markdown",
   "id": "09e048ce-117b-4ff3-b479-c1faec93c6fb",
   "metadata": {},
   "source": [
    "#### Hypothesis testing for population proportion\n",
    "\n",
    "##### Step1: State the Hypotheses:\n",
    "\n",
    "- Null Hypothesis (Ho): The population proportion of American adults working for the Private sector and having Education = Bachelors is 5%.\n",
    "- Alternative Hypothesis (Ha): The population proportion of American adults working for the Private sector and having Education = Bachelors is greater than 5%.\n",
    "\n",
    "___H0 : p0 = p = 0.05___\n",
    "\n",
    "___Ha: p > 0.05___"
   ]
  },
  {
   "cell_type": "markdown",
   "id": "0e496ce7-3cbd-4ef2-a735-2eb58bb6c448",
   "metadata": {},
   "source": [
    "##### Step2: Collecting and summarizing data using test statistics z-score"
   ]
  },
  {
   "cell_type": "code",
   "execution_count": 9,
   "id": "4b7c9c8b-4573-4dc0-8763-c29b3477f32b",
   "metadata": {},
   "outputs": [
    {
     "name": "stdout",
     "output_type": "stream",
     "text": [
      "Z-Score: 51.4360\n"
     ]
    }
   ],
   "source": [
    "# Calculating z-score\n",
    "p0 = 0.05 \n",
    "z_score = (p_hat_Y - p0) / np.sqrt((p0 * (1 - p0) / len(census_income_df)))\n",
    "\n",
    "print(f\"Z-Score: {z_score:.4f}\")"
   ]
  },
  {
   "cell_type": "code",
   "execution_count": 10,
   "id": "0e59f877-9c18-4763-9503-f9cd38e62ab1",
   "metadata": {},
   "outputs": [
    {
     "name": "stdout",
     "output_type": "stream",
     "text": [
      "P(Z > z_score): 0.0000\n"
     ]
    }
   ],
   "source": [
    "# Calculating p-value\n",
    "p_value = 1 - stats.norm.cdf(z_score)\n",
    "\n",
    "print(f\"P(Z > z_score): {p_value:.4f}\")"
   ]
  },
  {
   "cell_type": "markdown",
   "id": "8c03717a-a77b-41b7-83da-2e81d6ee569b",
   "metadata": {},
   "source": [
    "Since the P(Z > z_score) is less than the chosen significance level of 0.05, we reject the null hypothesis (Ho) that the percentage of American adults working for the workclass = Private and having education = Bachelors is 5%. Instead, we have sufficient evidence to support the alternative hypothesis (Ha) that the percentage is indeed higher than 5%, as believed by the head of the US Department of Labor."
   ]
  }
 ],
 "metadata": {
  "kernelspec": {
   "display_name": "Python 3 (ipykernel)",
   "language": "python",
   "name": "python3"
  },
  "language_info": {
   "codemirror_mode": {
    "name": "ipython",
    "version": 3
   },
   "file_extension": ".py",
   "mimetype": "text/x-python",
   "name": "python",
   "nbconvert_exporter": "python",
   "pygments_lexer": "ipython3",
   "version": "3.12.1"
  }
 },
 "nbformat": 4,
 "nbformat_minor": 5
}
