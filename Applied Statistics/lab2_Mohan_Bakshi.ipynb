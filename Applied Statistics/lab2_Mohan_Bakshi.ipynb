{
 "cells": [
  {
   "cell_type": "markdown",
   "id": "4ff78c1c-dbc4-4891-bb04-835e7ee2823e",
   "metadata": {},
   "source": [
    "# Lab-2: Exploratory Data Analysis - Examining Distributions\n",
    "\n",
    "### By Mohan Bakshi"
   ]
  },
  {
   "cell_type": "code",
   "execution_count": 1,
   "id": "3e2d76fa-51a0-44dd-9104-7c3def5d2582",
   "metadata": {},
   "outputs": [],
   "source": [
    "# Importing packages\n",
    "import numpy as np\n",
    "import pandas as pd\n",
    "import seaborn as sns\n",
    "import matplotlib.pyplot as plt\n",
    "from IPython.display import display"
   ]
  },
  {
   "cell_type": "code",
   "execution_count": 2,
   "id": "588f35c5-3a62-4af4-97ec-95819e960830",
   "metadata": {},
   "outputs": [],
   "source": [
    "# importing the dataset from a csv file using pandas\n",
    "dataset_frame = pd.read_csv('insurance.csv')"
   ]
  },
  {
   "cell_type": "code",
   "execution_count": 3,
   "id": "45cc49bb-64a7-4254-a57a-249c7ddf7f66",
   "metadata": {},
   "outputs": [
    {
     "name": "stdout",
     "output_type": "stream",
     "text": [
      "(1338, 7)\n"
     ]
    },
    {
     "data": {
      "text/html": [
       "<div>\n",
       "<style scoped>\n",
       "    .dataframe tbody tr th:only-of-type {\n",
       "        vertical-align: middle;\n",
       "    }\n",
       "\n",
       "    .dataframe tbody tr th {\n",
       "        vertical-align: top;\n",
       "    }\n",
       "\n",
       "    .dataframe thead th {\n",
       "        text-align: right;\n",
       "    }\n",
       "</style>\n",
       "<table border=\"1\" class=\"dataframe\">\n",
       "  <thead>\n",
       "    <tr style=\"text-align: right;\">\n",
       "      <th></th>\n",
       "      <th>age</th>\n",
       "      <th>sex</th>\n",
       "      <th>bmi</th>\n",
       "      <th>children</th>\n",
       "      <th>smoker</th>\n",
       "      <th>region</th>\n",
       "      <th>charges</th>\n",
       "    </tr>\n",
       "  </thead>\n",
       "  <tbody>\n",
       "    <tr>\n",
       "      <th>0</th>\n",
       "      <td>19</td>\n",
       "      <td>female</td>\n",
       "      <td>27.900</td>\n",
       "      <td>0</td>\n",
       "      <td>yes</td>\n",
       "      <td>southwest</td>\n",
       "      <td>16884.92400</td>\n",
       "    </tr>\n",
       "    <tr>\n",
       "      <th>1</th>\n",
       "      <td>18</td>\n",
       "      <td>male</td>\n",
       "      <td>33.770</td>\n",
       "      <td>1</td>\n",
       "      <td>no</td>\n",
       "      <td>southeast</td>\n",
       "      <td>1725.55230</td>\n",
       "    </tr>\n",
       "    <tr>\n",
       "      <th>2</th>\n",
       "      <td>28</td>\n",
       "      <td>male</td>\n",
       "      <td>33.000</td>\n",
       "      <td>3</td>\n",
       "      <td>no</td>\n",
       "      <td>southeast</td>\n",
       "      <td>4449.46200</td>\n",
       "    </tr>\n",
       "    <tr>\n",
       "      <th>3</th>\n",
       "      <td>33</td>\n",
       "      <td>male</td>\n",
       "      <td>22.705</td>\n",
       "      <td>0</td>\n",
       "      <td>no</td>\n",
       "      <td>northwest</td>\n",
       "      <td>21984.47061</td>\n",
       "    </tr>\n",
       "    <tr>\n",
       "      <th>4</th>\n",
       "      <td>32</td>\n",
       "      <td>male</td>\n",
       "      <td>28.880</td>\n",
       "      <td>0</td>\n",
       "      <td>no</td>\n",
       "      <td>northwest</td>\n",
       "      <td>3866.85520</td>\n",
       "    </tr>\n",
       "    <tr>\n",
       "      <th>5</th>\n",
       "      <td>31</td>\n",
       "      <td>female</td>\n",
       "      <td>25.740</td>\n",
       "      <td>0</td>\n",
       "      <td>no</td>\n",
       "      <td>southeast</td>\n",
       "      <td>3756.62160</td>\n",
       "    </tr>\n",
       "    <tr>\n",
       "      <th>6</th>\n",
       "      <td>46</td>\n",
       "      <td>female</td>\n",
       "      <td>33.440</td>\n",
       "      <td>1</td>\n",
       "      <td>no</td>\n",
       "      <td>southeast</td>\n",
       "      <td>8240.58960</td>\n",
       "    </tr>\n",
       "    <tr>\n",
       "      <th>7</th>\n",
       "      <td>37</td>\n",
       "      <td>female</td>\n",
       "      <td>27.740</td>\n",
       "      <td>3</td>\n",
       "      <td>no</td>\n",
       "      <td>northwest</td>\n",
       "      <td>7281.50560</td>\n",
       "    </tr>\n",
       "    <tr>\n",
       "      <th>8</th>\n",
       "      <td>37</td>\n",
       "      <td>male</td>\n",
       "      <td>29.830</td>\n",
       "      <td>2</td>\n",
       "      <td>no</td>\n",
       "      <td>northeast</td>\n",
       "      <td>6406.41070</td>\n",
       "    </tr>\n",
       "    <tr>\n",
       "      <th>9</th>\n",
       "      <td>60</td>\n",
       "      <td>female</td>\n",
       "      <td>25.840</td>\n",
       "      <td>0</td>\n",
       "      <td>no</td>\n",
       "      <td>northwest</td>\n",
       "      <td>28923.13692</td>\n",
       "    </tr>\n",
       "  </tbody>\n",
       "</table>\n",
       "</div>"
      ],
      "text/plain": [
       "   age     sex     bmi  children smoker     region      charges\n",
       "0   19  female  27.900         0    yes  southwest  16884.92400\n",
       "1   18    male  33.770         1     no  southeast   1725.55230\n",
       "2   28    male  33.000         3     no  southeast   4449.46200\n",
       "3   33    male  22.705         0     no  northwest  21984.47061\n",
       "4   32    male  28.880         0     no  northwest   3866.85520\n",
       "5   31  female  25.740         0     no  southeast   3756.62160\n",
       "6   46  female  33.440         1     no  southeast   8240.58960\n",
       "7   37  female  27.740         3     no  northwest   7281.50560\n",
       "8   37    male  29.830         2     no  northeast   6406.41070\n",
       "9   60  female  25.840         0     no  northwest  28923.13692"
      ]
     },
     "metadata": {},
     "output_type": "display_data"
    }
   ],
   "source": [
    "#shape and display dataset sample rows\n",
    "\n",
    "print(dataset_frame.shape)\n",
    "display(dataset_frame.head(n=10))"
   ]
  },
  {
   "cell_type": "markdown",
   "id": "a2605bf1-e1a4-4959-830c-66aa61daec9d",
   "metadata": {},
   "source": [
    "The shape of the dataset_frame is (1338, 7), which means it has 1338 rows (instances) and 7 columns (features or variables)."
   ]
  },
  {
   "cell_type": "code",
   "execution_count": 4,
   "id": "74347ed9-f09e-4531-9e9f-26d75acb775a",
   "metadata": {},
   "outputs": [
    {
     "name": "stdout",
     "output_type": "stream",
     "text": [
      "categorical columns: ['region', 'smoker', 'sex']\n",
      "quantitative columns: ['charges', 'age', 'children', 'bmi']\n"
     ]
    }
   ],
   "source": [
    "# classify columns into categorical and quantitative variable\n",
    "\n",
    "def check_variables(df: pd.DataFrame):\n",
    "    cols = df.columns\n",
    "    quantitative_cols = df._get_numeric_data().columns\n",
    "    categorical_cols = list(set(cols) - set(quantitative_cols))\n",
    "    return categorical_cols, list(set(quantitative_cols))\n",
    "\n",
    "cat_cols, quan_cols = check_variables(dataset_frame)\n",
    "print(f'categorical columns: {cat_cols}')\n",
    "print(f'quantitative columns: {quan_cols}')"
   ]
  },
  {
   "cell_type": "markdown",
   "id": "cb2edb9d-9a70-4ed0-860d-143249c0a2c3",
   "metadata": {},
   "source": [
    "<b>Categorical variables:</b>\n",
    "\n",
    "<b>1. Region:</b> This variable indicates many regions, including northeast, northwest, southeast, and southwest. These are discrete categories without numerical order or magnitude.\n",
    "\n",
    "<b>2. Smoker:</b> This variable specifies whether the individual smokes or does not smoke.\n",
    "\n",
    "<b>3. Sex:</b> This variable describes an individual's gender, which is classified as either male or female in the dataset."
   ]
  },
  {
   "cell_type": "markdown",
   "id": "aaaf5fa5-8310-4995-b454-1e6192c49d3b",
   "metadata": {},
   "source": [
    "<b>Quantitative Variables:</b>\n",
    "\n",
    "<b>1. Charges:</b> This variable contains numerical values that represent the medical insurance charges.\n",
    "\n",
    "<b>2. Age:</b> This is a numerical variable that indicates person's ages in years. It is a quantitative variable since it can be measured using a number scale.\n",
    "\n",
    "<b>3. Children:</b> This variable indicates how many children an individual has.\n",
    "\n",
    "<b>4. BMI (Body Mass Index)</b> is a numerical value derived using a person's weight and height. "
   ]
  },
  {
   "cell_type": "markdown",
   "id": "8412c9bb-b5e9-4383-8011-449f75ab56c4",
   "metadata": {},
   "source": [
    "## For categorical variables"
   ]
  },
  {
   "cell_type": "markdown",
   "id": "f501cfa1-cced-419c-80fb-c505ce5d80b7",
   "metadata": {},
   "source": [
    "#### 1. Sex"
   ]
  },
  {
   "cell_type": "markdown",
   "id": "9526663c-cac9-4e47-895b-24a90001bf1b",
   "metadata": {},
   "source": [
    "##### describe a categorical variable"
   ]
  },
  {
   "cell_type": "code",
   "execution_count": 5,
   "id": "d2235388-6568-4c83-a40a-3c6f94400a47",
   "metadata": {},
   "outputs": [
    {
     "data": {
      "text/plain": [
       "count     1338\n",
       "unique       2\n",
       "top       male\n",
       "freq       676\n",
       "Name: sex, dtype: object"
      ]
     },
     "execution_count": 5,
     "metadata": {},
     "output_type": "execute_result"
    }
   ],
   "source": [
    "dataset_frame['sex'].describe()"
   ]
  },
  {
   "cell_type": "markdown",
   "id": "f97a164f-f9dc-4521-88fc-9c74e839681d",
   "metadata": {},
   "source": [
    "Based on the description of Sex variable, we can observe that -\n",
    "\n",
    "1. The total number of observations for the variable is 1338.\n",
    "2. There are 2 unique categories in the variable i.e Male and Female.\n",
    "3. The most frequent category (mode) in the variable is Male, with a frequency of 676 occurrences."
   ]
  },
  {
   "cell_type": "markdown",
   "id": "6cc5a07c-142e-48fc-9882-b55794a35943",
   "metadata": {},
   "source": [
    "##### count values for frequency distribution"
   ]
  },
  {
   "cell_type": "code",
   "execution_count": 6,
   "id": "eba88509-6d74-411a-bc2b-5ceed30a8c9f",
   "metadata": {},
   "outputs": [
    {
     "data": {
      "text/plain": [
       "sex\n",
       "male      676\n",
       "female    662\n",
       "Name: count, dtype: int64"
      ]
     },
     "execution_count": 6,
     "metadata": {},
     "output_type": "execute_result"
    }
   ],
   "source": [
    "dataset_frame['sex'].value_counts()"
   ]
  },
  {
   "cell_type": "markdown",
   "id": "bd77c5a8-c996-4f1d-b254-c708ce155572",
   "metadata": {},
   "source": [
    "- Among the 1338 observations, there are 676 males and 662 females.\n",
    "- The frequency distribution shows a nearly equal distribution of males and females in the dataset, with males slightly outnumbering females by 14 observations."
   ]
  },
  {
   "cell_type": "markdown",
   "id": "7de4b7f8-d403-4897-b413-f05e410ecc23",
   "metadata": {},
   "source": [
    "##### plot Pie chart for a categorical variable"
   ]
  },
  {
   "cell_type": "code",
   "execution_count": 7,
   "id": "834df309-2911-4704-bfca-74b2b7b996a3",
   "metadata": {},
   "outputs": [
    {
     "data": {
      "text/plain": [
       "<Axes: ylabel='sex'>"
      ]
     },
     "execution_count": 7,
     "metadata": {},
     "output_type": "execute_result"
    },
    {
     "data": {
      "image/png": "[encoded data removed]",
      "text/plain": [
       "<Figure size 640x480 with 1 Axes>"
      ]
     },
     "metadata": {},
     "output_type": "display_data"
    }
   ],
   "source": [
    "dataset_frame.groupby('sex').size().plot(kind = 'pie', ylabel = 'sex', autopct = '%.2f%%')"
   ]
  },
  {
   "cell_type": "markdown",
   "id": "a53c3ca8-ae04-4da0-95c7-887e4ec319b9",
   "metadata": {},
   "source": [
    "This pie chart depicts the distribution of genders in the dataset. It highlights the proportion of males as 50.52% of the total, while females make up 49.48%."
   ]
  },
  {
   "cell_type": "markdown",
   "id": "e7d968cb-d9e8-4e22-865c-06851be5c89a",
   "metadata": {},
   "source": [
    "##### plot bar chart for a categorical variable"
   ]
  },
  {
   "cell_type": "code",
   "execution_count": 8,
   "id": "22a7a9da-5054-4c64-ac56-08a23176d567",
   "metadata": {},
   "outputs": [
    {
     "data": {
      "text/plain": [
       "<Axes: xlabel='sex'>"
      ]
     },
     "execution_count": 8,
     "metadata": {},
     "output_type": "execute_result"
    },
    {
     "data": {
      "image/png": "[encoded data removed]",
      "text/plain": [
       "<Figure size 640x480 with 1 Axes>"
      ]
     },
     "metadata": {},
     "output_type": "display_data"
    }
   ],
   "source": [
    "dataset_frame.groupby('sex').size().plot(kind = 'bar', rot = 0, colormap= 'Paired')"
   ]
  },
  {
   "cell_type": "markdown",
   "id": "4eba5aeb-c55c-4aba-8a6a-a4b63a0b5aaa",
   "metadata": {},
   "source": [
    "This bar graph visualises categorical data for gender (male or female). Each bar represents a category, and its height indicates the frequency or count of observations in that category.\n",
    "\n",
    "The bar indicating Males represents the number of males in the dataset. \n",
    "\n",
    "A taller bar indicates a higher number of males than females.\n",
    "\n",
    "The bar indicating Females represents the number of females in the dataset."
   ]
  },
  {
   "cell_type": "markdown",
   "id": "d9050ec7-5f0e-427c-b890-9f293773c802",
   "metadata": {
    "jp-MarkdownHeadingCollapsed": true
   },
   "source": [
    "#### 2. Smoker"
   ]
  },
  {
   "cell_type": "markdown",
   "id": "d03a088a-2584-4480-8de5-d610622e033c",
   "metadata": {},
   "source": [
    "##### describe a categorical variable"
   ]
  },
  {
   "cell_type": "code",
   "execution_count": 9,
   "id": "3ad19912-c2bc-461d-bf3c-494d85114450",
   "metadata": {},
   "outputs": [
    {
     "data": {
      "text/plain": [
       "count     1338\n",
       "unique       2\n",
       "top         no\n",
       "freq      1064\n",
       "Name: smoker, dtype: object"
      ]
     },
     "execution_count": 9,
     "metadata": {},
     "output_type": "execute_result"
    }
   ],
   "source": [
    "dataset_frame['smoker'].describe()"
   ]
  },
  {
   "cell_type": "markdown",
   "id": "2d968fa6-3ece-401f-8e97-15ad30e04254",
   "metadata": {},
   "source": [
    "Based on the description of the \"smoker\" variable, we can observe the following:\n",
    "\n",
    "1. The total number of observations for the variable is 1338.\n",
    "2. There are 2 unique categories in the variable: \"yes\" and \"no.\"\n",
    "3. The most frequent category (mode) in the variable is \"no,\" with a frequency of 1064 occurrences.\n",
    "4. The category \"no\" is dominant in the dataset, accounting for the majority of observations (around 79.5% of the total)."
   ]
  },
  {
   "cell_type": "markdown",
   "id": "8fde6749-bc29-4fca-9989-e85293424dae",
   "metadata": {},
   "source": [
    "##### count values for frequency distribution"
   ]
  },
  {
   "cell_type": "code",
   "execution_count": 10,
   "id": "2b9d3b13-7bf7-4dea-87b2-35ffcce2ee6a",
   "metadata": {},
   "outputs": [
    {
     "data": {
      "text/plain": [
       "smoker\n",
       "no     1064\n",
       "yes     274\n",
       "Name: count, dtype: int64"
      ]
     },
     "execution_count": 10,
     "metadata": {},
     "output_type": "execute_result"
    }
   ],
   "source": [
    "dataset_frame['smoker'].value_counts()"
   ]
  },
  {
   "cell_type": "markdown",
   "id": "6afc1d4e-a1de-4e66-8cc8-1fe8ea02b80f",
   "metadata": {},
   "source": [
    "1. Among the 1338 observations, 1064 individuals are non-smokers and 274 individuals are smokers.\n",
    "2. The majority of individuals in the dataset are non-smokers.\n",
    "3. Smokers represent a smaller proportion of the dataset."
   ]
  },
  {
   "cell_type": "markdown",
   "id": "88f2aa4a-f9de-4f84-b722-ddb08954e649",
   "metadata": {},
   "source": [
    "##### plot Pie chart for a categorical variable"
   ]
  },
  {
   "cell_type": "code",
   "execution_count": 11,
   "id": "b3cd7b0c-f2e8-4a9f-9a51-62d7382e76d2",
   "metadata": {},
   "outputs": [
    {
     "data": {
      "text/plain": [
       "<Axes: ylabel='smoker'>"
      ]
     },
     "execution_count": 11,
     "metadata": {},
     "output_type": "execute_result"
    },
    {
     "data": {
      "image/png": "[encoded data removed]",
      "text/plain": [
       "<Figure size 640x480 with 1 Axes>"
      ]
     },
     "metadata": {},
     "output_type": "display_data"
    }
   ],
   "source": [
    "dataset_frame.groupby('smoker').size().plot(kind = 'pie', ylabel = 'smoker', autopct = '%.2f%%')"
   ]
  },
  {
   "cell_type": "markdown",
   "id": "684b6fc7-1d9e-4806-924e-0d5eb177b6a2",
   "metadata": {},
   "source": [
    "This pie chart depicts the distribution of Smokers in the dataset. It highlights the proportion of Non-Smoker as 79.52% of the total, while individuals who Smoke make up 20.48%."
   ]
  },
  {
   "cell_type": "markdown",
   "id": "a8b4dc24-f278-4653-a460-257153ee2838",
   "metadata": {},
   "source": [
    "##### plot bar chart for a categorical variable"
   ]
  },
  {
   "cell_type": "code",
   "execution_count": 12,
   "id": "5b4c8501-c20d-4706-9461-b24ee69a5d71",
   "metadata": {},
   "outputs": [
    {
     "data": {
      "text/plain": [
       "<Axes: xlabel='smoker'>"
      ]
     },
     "execution_count": 12,
     "metadata": {},
     "output_type": "execute_result"
    },
    {
     "data": {
      "image/png": "[encoded data removed]",
      "text/plain": [
       "<Figure size 640x480 with 1 Axes>"
      ]
     },
     "metadata": {},
     "output_type": "display_data"
    }
   ],
   "source": [
    "dataset_frame.groupby('smoker').size().plot(kind = 'bar', rot = 0, colormap= 'Paired')"
   ]
  },
  {
   "cell_type": "markdown",
   "id": "53e4c901-49f2-434d-aa04-16a870b2f8e4",
   "metadata": {},
   "source": [
    "This bar graph visualises categorical data for Smoker. Each bar represents a category, and its height indicates the frequency or count of observations in that category.\n",
    "\n",
    "The bar indicating No represents the number of individuals who do not smoker or Non - Smoker in the dataset. \n",
    "\n",
    "A taller bar indicates a higher number of Non-Smoker than Smoker.\n",
    "\n",
    "The bar indicating Yes represents the number of Smoker in the dataset."
   ]
  },
  {
   "cell_type": "markdown",
   "id": "482ab833-2219-4ab2-811f-71510410ee04",
   "metadata": {
    "jp-MarkdownHeadingCollapsed": true
   },
   "source": [
    "#### 3. Region"
   ]
  },
  {
   "cell_type": "markdown",
   "id": "f56fb660-7570-4940-95dd-323b1d40a1a6",
   "metadata": {},
   "source": [
    "##### describe a categorical variable"
   ]
  },
  {
   "cell_type": "code",
   "execution_count": 13,
   "id": "7dbfe587-98f2-4df0-9fae-14dacbadf04b",
   "metadata": {},
   "outputs": [
    {
     "data": {
      "text/plain": [
       "count          1338\n",
       "unique            4\n",
       "top       southeast\n",
       "freq            364\n",
       "Name: region, dtype: object"
      ]
     },
     "execution_count": 13,
     "metadata": {},
     "output_type": "execute_result"
    }
   ],
   "source": [
    "dataset_frame['region'].describe()"
   ]
  },
  {
   "cell_type": "markdown",
   "id": "22a6579a-8614-400b-8c87-b8519041523d",
   "metadata": {},
   "source": [
    "Based on the description of the \"region\" variable, we can observe the following:\n",
    "\n",
    "1. The total number of observations for the variable is 1338.\n",
    "2. There are 4 unique categories in the variable: \"southeast,\" \"northwest,\" \"southwest,\" and \"northeast.\"\n",
    "3. The most frequent category (mode) in the variable is \"southeast,\" with a frequency of 364 occurrences.\n",
    "4. The \"southeast\" region appears to be the most common among the observations, accounting for a significant portion of the dataset."
   ]
  },
  {
   "cell_type": "markdown",
   "id": "ed6620ac-56b9-4e7a-bd4e-51d6ee8b7df2",
   "metadata": {},
   "source": [
    "##### count values for frequency distribution"
   ]
  },
  {
   "cell_type": "code",
   "execution_count": 14,
   "id": "9095dc05-7902-460f-8427-1d7c1957cf77",
   "metadata": {},
   "outputs": [
    {
     "data": {
      "text/plain": [
       "region\n",
       "southeast    364\n",
       "southwest    325\n",
       "northwest    325\n",
       "northeast    324\n",
       "Name: count, dtype: int64"
      ]
     },
     "execution_count": 14,
     "metadata": {},
     "output_type": "execute_result"
    }
   ],
   "source": [
    "dataset_frame['region'].value_counts()"
   ]
  },
  {
   "cell_type": "markdown",
   "id": "059a598a-04f2-431c-bf9b-5d0aa86f0760",
   "metadata": {},
   "source": [
    "Based on the frequency distribution of the \"region\" variable, we can observe the following:\n",
    "\n",
    "1. The dataset contains observations from four regions: southeast, southwest, northwest, and northeast.\n",
    "2. The distribution of observations across regions is relatively balanced, with the southeast region having the highest number of observations and the northeast region having the lowest, but the differences between regions are minimal."
   ]
  },
  {
   "cell_type": "markdown",
   "id": "8ff45001-d0f0-4051-b310-b88e255a7127",
   "metadata": {},
   "source": [
    "##### plot Pie chart for a categorical variable"
   ]
  },
  {
   "cell_type": "code",
   "execution_count": 15,
   "id": "bd028fbd-fee3-4364-83d2-e6966515548b",
   "metadata": {},
   "outputs": [
    {
     "data": {
      "text/plain": [
       "<Axes: ylabel='region'>"
      ]
     },
     "execution_count": 15,
     "metadata": {},
     "output_type": "execute_result"
    },
    {
     "data": {
      "image/png": "[encoded data removed]",
      "text/plain": [
       "<Figure size 640x480 with 1 Axes>"
      ]
     },
     "metadata": {},
     "output_type": "display_data"
    }
   ],
   "source": [
    "dataset_frame.groupby('region').size().plot(kind = 'pie', ylabel = 'region', autopct = '%.2f%%')"
   ]
  },
  {
   "cell_type": "markdown",
   "id": "f44e4fa7-c7cc-4ecc-ae5c-b91f01c2963b",
   "metadata": {},
   "source": [
    "This pie chart depicts the distribution of Region in the dataset. \n",
    "\n",
    "It highlights the proportion of Regions as: \n",
    "- Northwest: 24.29%\n",
    "- Northeast: 24.22%\n",
    "- Southwest: 24.29%\n",
    "- Southeast: 27.20% "
   ]
  },
  {
   "cell_type": "markdown",
   "id": "adbef9a3-4e99-4e8f-bfd2-6c4c424b6ad2",
   "metadata": {},
   "source": [
    "##### plot bar chart for a categorical variable"
   ]
  },
  {
   "cell_type": "code",
   "execution_count": 16,
   "id": "91feaedc-d06f-4951-8209-eed339913119",
   "metadata": {},
   "outputs": [
    {
     "data": {
      "text/plain": [
       "<Axes: xlabel='region'>"
      ]
     },
     "execution_count": 16,
     "metadata": {},
     "output_type": "execute_result"
    },
    {
     "data": {
      "image/png": "[encoded data removed]",
      "text/plain": [
       "<Figure size 640x480 with 1 Axes>"
      ]
     },
     "metadata": {},
     "output_type": "display_data"
    }
   ],
   "source": [
    "dataset_frame.groupby('region').size().plot(kind = 'bar', rot = 0, colormap= 'Paired')"
   ]
  },
  {
   "cell_type": "markdown",
   "id": "26deb0fc-00ca-4d2c-afa1-15f70967f275",
   "metadata": {},
   "source": [
    "This bar graph visualises categorical data for Region. Each bar represents a category, and its height indicates the frequency or count of observations in that category.\n",
    "\n",
    "- The bar indicating Northeast with count of 324 in the dataset.\n",
    "- The bar indicating Northwest with count of 325 in the dataset.\n",
    "- The bar indicating Southeast with count of 325 in the dataset.\n",
    "- The bar indicating Southwest with count of 364 in the dataset.\n",
    "  \n",
    "A taller bar indicates a higher number of frequency from southeast category."
   ]
  },
  {
   "cell_type": "markdown",
   "id": "37a074bc-6288-46fb-aa3d-56504ded393c",
   "metadata": {},
   "source": [
    "## For Quantitative variables"
   ]
  },
  {
   "cell_type": "markdown",
   "id": "dd186290-aad7-40ea-a07f-ccd304f66402",
   "metadata": {},
   "source": [
    "#### 1. Age "
   ]
  },
  {
   "cell_type": "markdown",
   "id": "1a68167c-2031-40cb-8567-6076da93e81f",
   "metadata": {},
   "source": [
    "##### describe variable"
   ]
  },
  {
   "cell_type": "code",
   "execution_count": 17,
   "id": "df45b9bd-740f-4050-b946-d5f09c4e6cb8",
   "metadata": {},
   "outputs": [
    {
     "data": {
      "text/plain": [
       "count    1338.000000\n",
       "mean       39.207025\n",
       "std        14.049960\n",
       "min        18.000000\n",
       "25%        27.000000\n",
       "50%        39.000000\n",
       "75%        51.000000\n",
       "max        64.000000\n",
       "Name: age, dtype: float64"
      ]
     },
     "execution_count": 17,
     "metadata": {},
     "output_type": "execute_result"
    }
   ],
   "source": [
    "dataset_frame['age'].describe()"
   ]
  },
  {
   "cell_type": "markdown",
   "id": "d11368d3-a985-488e-8377-0db9fa38b06e",
   "metadata": {},
   "source": [
    "- The dataset consists of 1338 observations of ages ranging from 18 to 64 years.\n",
    "- The mean age of the individuals in the dataset is approximately 39.2 years.\n",
    "- The standard deviation (std) of ages is approximately 14.04 years.\n",
    "- The minimum age recorded in the dataset is 18 years, while the maximum age is 64 years.\n",
    "- The quartiles (25th, 50th, and 75th percentiles) provide additional insights into the distribution of ages:\n",
    "        25% of individuals are below 27 years old.\n",
    "        50% of individuals (the median) are below 39 years old.\n",
    "        75% of individuals are below 51 years old.\n"
   ]
  },
  {
   "cell_type": "markdown",
   "id": "31bb5761-d64b-4b5f-a3ca-40742980d088",
   "metadata": {},
   "source": [
    "##### plot histogram"
   ]
  },
  {
   "cell_type": "code",
   "execution_count": 18,
   "id": "df830bd4-060f-4738-b93f-2af153ed3dc9",
   "metadata": {},
   "outputs": [
    {
     "data": {
      "text/plain": [
       "Text(0.5, 1.0, 'Histogram of Ages')"
      ]
     },
     "execution_count": 18,
     "metadata": {},
     "output_type": "execute_result"
    },
    {
     "data": {
      "image/png": "[encoded data removed]",
      "text/plain": [
       "<Figure size 640x480 with 1 Axes>"
      ]
     },
     "metadata": {},
     "output_type": "display_data"
    }
   ],
   "source": [
    "plt.hist(x = dataset_frame['age'], bins = 20, histtype='bar')\n",
    "plt.xlabel('Age')\n",
    "plt.ylabel('Count')\n",
    "plt.title('Histogram of Ages')"
   ]
  },
  {
   "cell_type": "markdown",
   "id": "d1ae7a7c-61de-49b2-b155-f30f48a96548",
   "metadata": {},
   "source": [
    "This histogram visualisation depicts the distribution of ages in the dataset. It illustrates how the ages are distributed over various intervals or bins. \n",
    "\n",
    "<b>Shape</b> - This histogram has a skewed right distribution. A few ages are more insured than others.\n",
    "\n",
    "<b>Centre</b> - The data appears to be centred about 45 years old. This suggests that around half of all insurance is provided to those under the age of 45.\n",
    "\n",
    "<b>Spread</b> - The data runs from 18 to 64, hence the approximate range is 64 - 18 = 46.\n",
    "\n",
    "<b>Outliers</b> - There appears to be no probable.\n"
   ]
  },
  {
   "cell_type": "markdown",
   "id": "a69fe02b-38a1-4627-8db4-fee83e84dc2b",
   "metadata": {},
   "source": [
    "##### calculate mode, mean, median"
   ]
  },
  {
   "cell_type": "code",
   "execution_count": 19,
   "id": "779d70c3-4dad-47a6-b57a-c88cd3ca680b",
   "metadata": {},
   "outputs": [
    {
     "data": {
      "text/plain": [
       "0    18\n",
       "Name: age, dtype: int64"
      ]
     },
     "execution_count": 19,
     "metadata": {},
     "output_type": "execute_result"
    }
   ],
   "source": [
    "dataset_frame['age'].mode()"
   ]
  },
  {
   "cell_type": "code",
   "execution_count": 20,
   "id": "03a7a384-f5bb-46c7-9dcc-5467494d2790",
   "metadata": {},
   "outputs": [
    {
     "data": {
      "text/plain": [
       "39.20702541106129"
      ]
     },
     "execution_count": 20,
     "metadata": {},
     "output_type": "execute_result"
    }
   ],
   "source": [
    "dataset_frame['age'].mean()"
   ]
  },
  {
   "cell_type": "code",
   "execution_count": 21,
   "id": "5d27a3bf-7c5c-48b6-bdc8-745e7f942cc2",
   "metadata": {},
   "outputs": [
    {
     "data": {
      "text/plain": [
       "39.0"
      ]
     },
     "execution_count": 21,
     "metadata": {},
     "output_type": "execute_result"
    }
   ],
   "source": [
    "dataset_frame['age'].median()"
   ]
  },
  {
   "cell_type": "markdown",
   "id": "c4dde341-43dd-4cbc-9548-56acaf5bfe86",
   "metadata": {},
   "source": [
    "- The mode of the \"age\" variable in the dataset is 18, which means that 18 is the most frequently occurring age among the individuals.\n",
    "- The mean age of individuals in the dataset is approximately 39 years.\n",
    "- The median age of individuals in the dataset is 39 years."
   ]
  },
  {
   "cell_type": "markdown",
   "id": "a212cb5e-916d-4b59-847d-295872ecd9c6",
   "metadata": {
    "jp-MarkdownHeadingCollapsed": true
   },
   "source": [
    "##### calculate the min, max, range for quantitative variable"
   ]
  },
  {
   "cell_type": "code",
   "execution_count": 22,
   "id": "6a35c17b-5651-4efb-86b7-5d514a002baa",
   "metadata": {},
   "outputs": [
    {
     "name": "stdout",
     "output_type": "stream",
     "text": [
      " \n",
      " Min = 18 \n",
      " Max = 64 \n",
      " Range = 46\n"
     ]
    }
   ],
   "source": [
    "min_ = dataset_frame['age'].min()\n",
    "max_ = dataset_frame['age'].max()\n",
    "range_ = max_ - min_\n",
    "\n",
    "print(f' \\n Min = {min_} \\n Max = {max_} \\n Range = {range_}')"
   ]
  },
  {
   "cell_type": "markdown",
   "id": "03281305-b351-4af5-a001-d8908205f84e",
   "metadata": {},
   "source": [
    "- The minimum age in the dataset is 18 years.\n",
    "- The maximum age in the dataset is 64 years.\n",
    "- The range of ages in the dataset is calculated as the difference between the maximum and minimum ages: 64 - 18 = 46 years."
   ]
  },
  {
   "cell_type": "markdown",
   "id": "a650f1dd-777c-4585-84f4-de272e113157",
   "metadata": {},
   "source": [
    "##### calculate quantiles, IQR, outliers"
   ]
  },
  {
   "cell_type": "code",
   "execution_count": 23,
   "id": "0338772f-62a0-4a37-ab5d-467d0c6ff930",
   "metadata": {},
   "outputs": [
    {
     "name": "stdout",
     "output_type": "stream",
     "text": [
      " \n",
      " Q25 = 27.0 \n",
      " Q75 = 51.0 \n",
      " IQR = 24.0\n",
      " Outlier = Series([], Name: age, dtype: int64)\n"
     ]
    }
   ],
   "source": [
    "Q25 = dataset_frame['age'].quantile(0.25)\n",
    "Q75 = dataset_frame['age'].quantile(0.75)\n",
    "IQR = Q75 - Q25\n",
    "\n",
    "age_outliers = dataset_frame[(dataset_frame.age < Q25 - 1.5*IQR)|(dataset_frame.age > Q75 + 1.5*IQR)]['age']\n",
    "\n",
    "print(f' \\n Q25 = {Q25} \\n Q75 = {Q75} \\n IQR = {IQR}\\n Outlier = {age_outliers}')"
   ]
  },
  {
   "cell_type": "markdown",
   "id": "094c9e8b-36ab-47df-bfc7-4c32f48fc6d6",
   "metadata": {},
   "source": [
    "- The 25th percentile (Q1 or Q25) is 27.0, indicating that 25% of the ages in the dataset are below or equal to 27 years.\n",
    "- The 75th percentile (Q3 or Q75) is 51.0, indicating that 75% of the ages in the dataset are below or equal to 51 years.\n",
    "- The interquartile range (IQR) is 24.0 years.\n",
    "- Based on the IQR rule for identifying outliers, there are no outliers in the age variable in the dataset."
   ]
  },
  {
   "cell_type": "markdown",
   "id": "bbb41b84-f5a3-4aba-b23e-ad6ae523b27d",
   "metadata": {},
   "source": [
    "##### calculate standard deviation"
   ]
  },
  {
   "cell_type": "code",
   "execution_count": 24,
   "id": "052306cf-4a61-4379-89cf-9d8e9e488ce9",
   "metadata": {},
   "outputs": [
    {
     "data": {
      "text/plain": [
       "14.049960379216154"
      ]
     },
     "execution_count": 24,
     "metadata": {},
     "output_type": "execute_result"
    }
   ],
   "source": [
    "age_std = dataset_frame['age'].std()\n",
    "age_std"
   ]
  },
  {
   "cell_type": "markdown",
   "id": "a45a88dc-1ffb-49cc-a028-f97f34dabae9",
   "metadata": {},
   "source": [
    "##### box plot"
   ]
  },
  {
   "cell_type": "code",
   "execution_count": 25,
   "id": "43866089-6599-41c8-84bd-b16244a35ced",
   "metadata": {},
   "outputs": [
    {
     "data": {
      "text/plain": [
       "Text(0, 0.5, 'Age')"
      ]
     },
     "execution_count": 25,
     "metadata": {},
     "output_type": "execute_result"
    },
    {
     "data": {
      "image/png": "[encoded data removed]",
      "text/plain": [
       "<Figure size 640x480 with 1 Axes>"
      ]
     },
     "metadata": {},
     "output_type": "display_data"
    }
   ],
   "source": [
    "plt.boxplot(x=dataset_frame['age'], labels = ['age'])\n",
    "plt.ylabel('Age')"
   ]
  },
  {
   "cell_type": "markdown",
   "id": "3223988a-2257-407c-8830-5576e347919d",
   "metadata": {},
   "source": [
    "The 25th percentile (Q1 or Q25) is 27.0, indicating that 25% of the ages in the dataset are below or equal to 27 years.\n",
    "\n",
    "The 75th percentile (Q3 or Q75) is 51.0, indicating that 75% of the ages in the dataset are below or equal to 51 years.\n",
    "\n",
    "The interquartile range (IQR) is 24.0 years.\n",
    "\n",
    "The boxplot shows no significant outliers.\n",
    "\n",
    "The median age of individuals in the dataset is 39 years."
   ]
  },
  {
   "cell_type": "markdown",
   "id": "6d911ad7-31fc-4a39-b210-d983b1794243",
   "metadata": {},
   "source": [
    "#### 2. Charges "
   ]
  },
  {
   "cell_type": "markdown",
   "id": "00756677-6642-414f-a998-cc9d9037d525",
   "metadata": {},
   "source": [
    "##### Describe variable"
   ]
  },
  {
   "cell_type": "code",
   "execution_count": 26,
   "id": "6ef1faea-7830-4fc5-9f42-4b303a5470ec",
   "metadata": {},
   "outputs": [
    {
     "data": {
      "text/plain": [
       "count     1338.000000\n",
       "mean     13270.422265\n",
       "std      12110.011237\n",
       "min       1121.873900\n",
       "25%       4740.287150\n",
       "50%       9382.033000\n",
       "75%      16639.912515\n",
       "max      63770.428010\n",
       "Name: charges, dtype: float64"
      ]
     },
     "execution_count": 26,
     "metadata": {},
     "output_type": "execute_result"
    }
   ],
   "source": [
    "dataset_frame['charges'].describe()"
   ]
  },
  {
   "cell_type": "markdown",
   "id": "42241ff6-a8ba-4a94-90c2-fa60080a8d4e",
   "metadata": {},
   "source": [
    "- The dataset contains 1338 observations of charges.\n",
    "- The mean (average) charge is approximately 13,270.42.\n",
    "- The standard deviation (std) of charges is approximately 12,110.01.\n",
    "- The minimum charge in the dataset is 1,121.87, while the maximum charge is 63,770.43.\n",
    "- The quartiles (25th, 50th, and 75th percentiles) provide additional insights into the distribution of charges:\n",
    "- 25% of charges are below 4,740.29, 50% of charges (the median) are below 9,382.03 and 75% of charges are below 16,639.91"
   ]
  },
  {
   "cell_type": "markdown",
   "id": "f6755042-88f2-4de8-8bd0-60a8b9ee3b76",
   "metadata": {},
   "source": [
    "##### Plot Histogram"
   ]
  },
  {
   "cell_type": "code",
   "execution_count": 27,
   "id": "2126f60b-ebfe-4fab-8f05-320f8042c7ea",
   "metadata": {},
   "outputs": [
    {
     "data": {
      "text/plain": [
       "Text(0.5, 1.0, 'Histogram of Charges')"
      ]
     },
     "execution_count": 27,
     "metadata": {},
     "output_type": "execute_result"
    },
    {
     "data": {
      "image/png": "[encoded data removed]",
      "text/plain": [
       "<Figure size 640x480 with 1 Axes>"
      ]
     },
     "metadata": {},
     "output_type": "display_data"
    }
   ],
   "source": [
    "plt.hist(x = dataset_frame['charges'], bins = 20, histtype='bar')\n",
    "plt.xlabel('Charges')\n",
    "plt.ylabel('Count')\n",
    "plt.title('Histogram of Charges')\n"
   ]
  },
  {
   "cell_type": "markdown",
   "id": "1a89292c-77e4-4633-9c36-1be7a3e9b009",
   "metadata": {},
   "source": [
    "This histogram visualisation depicts the distribution of charges in the dataset. It illustrates how the Charges are distributed over various intervals or bins. \n",
    "\n",
    "<b>Shape</b> - This histogram has a skewed right distribution. A few charges are more insured than others.\n",
    "\n",
    "<b>Centre</b> - The center of the histogram would likely be around the median value, which is 9,382.03. The median represents the middle value in the dataset, where half of the charges are below this value and half are above. However, I believe the center of the histogram will be little shifted towards the higher charges, reflecting the longer tail on the right side of the distribution.\n",
    "\n",
    "<b>Spread</b> - The data runs from 1121.8739  to 63770.42801 , hence the approximate range is 63770.42801 - 1121.8739 = 62648.55411.\n",
    "\n",
    "<b>Outliers</b> - There appears to be few probable outlier.\n"
   ]
  },
  {
   "cell_type": "markdown",
   "id": "9ecde81d-1e31-46b8-abce-f8cd6a40dfca",
   "metadata": {},
   "source": [
    "##### Claculate mode, mean, median"
   ]
  },
  {
   "cell_type": "code",
   "execution_count": 28,
   "id": "14a74033-16ca-473d-ba15-cbabd44018ff",
   "metadata": {},
   "outputs": [
    {
     "data": {
      "text/plain": [
       "0    1639.5631\n",
       "Name: charges, dtype: float64"
      ]
     },
     "execution_count": 28,
     "metadata": {},
     "output_type": "execute_result"
    }
   ],
   "source": [
    "dataset_frame['charges'].mode()"
   ]
  },
  {
   "cell_type": "code",
   "execution_count": 29,
   "id": "e1b400bd-42f6-4989-bf20-f78546808847",
   "metadata": {},
   "outputs": [
    {
     "data": {
      "text/plain": [
       "13270.422265141257"
      ]
     },
     "execution_count": 29,
     "metadata": {},
     "output_type": "execute_result"
    }
   ],
   "source": [
    "dataset_frame['charges'].mean()"
   ]
  },
  {
   "cell_type": "code",
   "execution_count": 30,
   "id": "261e8cdf-f130-47ae-b159-ab9a9d609e1f",
   "metadata": {},
   "outputs": [
    {
     "data": {
      "text/plain": [
       "9382.033"
      ]
     },
     "execution_count": 30,
     "metadata": {},
     "output_type": "execute_result"
    }
   ],
   "source": [
    "dataset_frame['charges'].median()"
   ]
  },
  {
   "cell_type": "markdown",
   "id": "943ce783-7365-408d-a21a-514dc1b874bd",
   "metadata": {},
   "source": [
    "- The mode of the \"charges\" variable in the dataset is 1,639.56, which means that 1,639.56 is the most frequently occurring charge among the individuals.\n",
    "- The mean charge in the dataset is approximately 13,270.42.\n",
    "- The median charge in the dataset is 9,382.03."
   ]
  },
  {
   "cell_type": "markdown",
   "id": "fc06d597-59d1-41bc-8612-27bd33bee927",
   "metadata": {},
   "source": [
    "##### Calculating the min, max, range for quantitative variable"
   ]
  },
  {
   "cell_type": "code",
   "execution_count": 31,
   "id": "d6e7157b-b139-4b86-b83c-504f26332fe0",
   "metadata": {},
   "outputs": [
    {
     "name": "stdout",
     "output_type": "stream",
     "text": [
      " \n",
      " Min = 1121.8739 \n",
      " Max = 63770.42801 \n",
      " Range = 62648.554110000005\n"
     ]
    }
   ],
   "source": [
    "min_ = dataset_frame['charges'].min()\n",
    "max_ = dataset_frame['charges'].max()\n",
    "range_ = max_ - min_\n",
    "\n",
    "print(f' \\n Min = {min_} \\n Max = {max_} \\n Range = {range_}')\n"
   ]
  },
  {
   "cell_type": "markdown",
   "id": "49259c58-b778-4f28-882c-23182b1f4e72",
   "metadata": {},
   "source": [
    "- The minimum charge in the dataset is 1121.8739 dollars.\n",
    "- The maximum charge in the dataset is 63770.42801 dollars.\n",
    "- The range of charges in the dataset is calculated as the difference between the maximum and minimum ages: 63770.42801 - 1121.8739 = 62648.554110000005."
   ]
  },
  {
   "cell_type": "markdown",
   "id": "0dcb82f7-100b-4ca6-bbe3-2295f6bc0248",
   "metadata": {},
   "source": [
    "##### calculating quantiles, IQR, outliers"
   ]
  },
  {
   "cell_type": "code",
   "execution_count": 32,
   "id": "1a2ddaac-98c4-461c-8044-f7395dcbcbb5",
   "metadata": {},
   "outputs": [
    {
     "name": "stdout",
     "output_type": "stream",
     "text": [
      " \n",
      " Q25 = 4740.28715 \n",
      " Q75 = 16639.912515 \n",
      " IQR = 11899.625365\n",
      " Outlier = 14      39611.75770\n",
      "19      36837.46700\n",
      "23      37701.87680\n",
      "29      38711.00000\n",
      "30      35585.57600\n",
      "           ...     \n",
      "1300    62592.87309\n",
      "1301    46718.16325\n",
      "1303    37829.72420\n",
      "1313    36397.57600\n",
      "1323    43896.37630\n",
      "Name: charges, Length: 139, dtype: float64\n"
     ]
    }
   ],
   "source": [
    "Q25 = dataset_frame['charges'].quantile(0.25)\n",
    "Q75 = dataset_frame['charges'].quantile(0.75)\n",
    "IQR = Q75 - Q25\n",
    "\n",
    "charges_outliers = dataset_frame[(dataset_frame.charges < Q25 - 1.5*IQR)|(dataset_frame.charges > Q75 + 1.5*IQR)]['charges']\n",
    "\n",
    "print(f' \\n Q25 = {Q25} \\n Q75 = {Q75} \\n IQR = {IQR}\\n Outlier = {charges_outliers}')"
   ]
  },
  {
   "cell_type": "markdown",
   "id": "f8ecd47d-e1e3-4a40-b72a-918755d1881e",
   "metadata": {},
   "source": [
    "- The 25th percentile (Q1 or Q25) is 4,740.29, indicating that 25% of the charges in the dataset are below or equal to 4,740.29.\n",
    "- The 75th percentile (Q3 or Q75) is 16,639.91, indicating that 75% of the charges in the dataset are below or equal to 16,639.91.\n",
    "- The interquartile range (IQR) is 11,899.63. The IQR represents the middle 50% of the charges in the dataset.\n",
    "- Based on the IQR rule for identifying outliers (values below Q1 - 1.5 * IQR or above Q3 + 1.5 * IQR), 14 observations with charges ranging from 39,611.76 to 43,896.38 are considered outliers.\n"
   ]
  },
  {
   "cell_type": "markdown",
   "id": "34b9f81a-44f1-45af-895c-445efebf8c38",
   "metadata": {
    "jp-MarkdownHeadingCollapsed": true
   },
   "source": [
    "##### calculating standard deviation"
   ]
  },
  {
   "cell_type": "code",
   "execution_count": 33,
   "id": "904b625c-b1d5-4e5e-86fc-740f7784601e",
   "metadata": {},
   "outputs": [
    {
     "data": {
      "text/plain": [
       "12110.011236694001"
      ]
     },
     "execution_count": 33,
     "metadata": {},
     "output_type": "execute_result"
    }
   ],
   "source": [
    "charges_std = dataset_frame['charges'].std()\n",
    "charges_std"
   ]
  },
  {
   "cell_type": "markdown",
   "id": "6d2e102e-b330-44aa-aa6e-09826e64d601",
   "metadata": {},
   "source": [
    "##### Box plot"
   ]
  },
  {
   "cell_type": "code",
   "execution_count": 34,
   "id": "9f7a2003-f472-45d3-a0f0-af5d61536f0e",
   "metadata": {},
   "outputs": [
    {
     "data": {
      "text/plain": [
       "Text(0, 0.5, 'Charges')"
      ]
     },
     "execution_count": 34,
     "metadata": {},
     "output_type": "execute_result"
    },
    {
     "data": {
      "image/png": "[encoded data removed]",
      "text/plain": [
       "<Figure size 640x480 with 1 Axes>"
      ]
     },
     "metadata": {},
     "output_type": "display_data"
    }
   ],
   "source": [
    "plt.boxplot(x=dataset_frame['charges'], labels = ['charge'])\n",
    "plt.ylabel('Charges')"
   ]
  },
  {
   "cell_type": "markdown",
   "id": "1c927833-2331-4ae6-a6fc-616b070a502e",
   "metadata": {},
   "source": [
    "The 25th percentile (Q1 or Q25) is 4,740.29, indicating that 25% of the charges in the dataset are below or equal to 4,740.29.\n",
    "                                                                                                                      \n",
    "The 75th percentile (Q3 or Q75) is 16,639.91, indicating that 75% of the charges in the dataset are below or equal to 16,639.91.\n",
    "\n",
    "The interquartile range (IQR) is 11,899.63. The IQR represents the middle 50% of the charges in the dataset.\n",
    "\n",
    "The box plot have significant amount of outliers above 35585.57600 charges.\n",
    "\n",
    "The median charge in the dataset is 9,382.03."
   ]
  },
  {
   "cell_type": "markdown",
   "id": "c3216e7d-4ebf-42ca-8061-24648808df38",
   "metadata": {
    "jp-MarkdownHeadingCollapsed": true
   },
   "source": [
    "#### 3. Children"
   ]
  },
  {
   "cell_type": "markdown",
   "id": "3ff82915-81a1-468a-bc69-1b8dc656b6bf",
   "metadata": {},
   "source": [
    "##### Describe Variable"
   ]
  },
  {
   "cell_type": "code",
   "execution_count": 35,
   "id": "4a379d1f-d8b8-4e16-ba85-abeca6ba6429",
   "metadata": {},
   "outputs": [
    {
     "data": {
      "text/plain": [
       "count    1338.000000\n",
       "mean        1.094918\n",
       "std         1.205493\n",
       "min         0.000000\n",
       "25%         0.000000\n",
       "50%         1.000000\n",
       "75%         2.000000\n",
       "max         5.000000\n",
       "Name: children, dtype: float64"
      ]
     },
     "execution_count": 35,
     "metadata": {},
     "output_type": "execute_result"
    }
   ],
   "source": [
    "dataset_frame['children'].describe()"
   ]
  },
  {
   "cell_type": "markdown",
   "id": "2da5d108-0d16-4362-9df6-19dd6eec83c2",
   "metadata": {},
   "source": [
    "- The minimum number of childrens are 0, indicating that there are individuals in the dataset with no children.\n",
    "- The maximum number of childrens are 5, which represents the highest number of children observed in the dataset.\n",
    "- The range of children in the dataset is from 0 to 5.\n",
    "- The mean number of children is approximately 1.09, indicating the average number of children per individual in the dataset.\n",
    "- The median number of children (50th percentile) is 1, meaning that 50% of individuals have 1 or fewer children.\n",
    "- The interquartile range (IQR) is calculated as the difference between the 75th percentile (Q3) and the 25th percentile (Q1): 2 - 0 = 2.\n"
   ]
  },
  {
   "cell_type": "markdown",
   "id": "f9b65aaa-847f-4ae5-8545-b9e9f7bfc156",
   "metadata": {},
   "source": [
    "##### Plot histogram"
   ]
  },
  {
   "cell_type": "code",
   "execution_count": 36,
   "id": "57aaf80a-8334-4d54-a9af-7956c8f82006",
   "metadata": {},
   "outputs": [
    {
     "data": {
      "text/plain": [
       "Text(0.5, 1.0, 'Histogram of Children')"
      ]
     },
     "execution_count": 36,
     "metadata": {},
     "output_type": "execute_result"
    },
    {
     "data": {
      "image/png": "[encoded data removed]",
      "text/plain": [
       "<Figure size 640x480 with 1 Axes>"
      ]
     },
     "metadata": {},
     "output_type": "display_data"
    }
   ],
   "source": [
    "plt.hist(x = dataset_frame['children'], bins = 20, histtype='bar')\n",
    "plt.xlabel('Children')\n",
    "plt.ylabel('Count')\n",
    "plt.title('Histogram of Children')\n"
   ]
  },
  {
   "cell_type": "markdown",
   "id": "8782e06f-bfd8-4d0c-be2e-14390cb1fa54",
   "metadata": {},
   "source": [
    "This histogram visualisation depicts the distribution of Children in the dataset.\n",
    "\n",
    "<b>Shape</b> - This histogram has a skewed right distribution.\n",
    "\n",
    "<b>Centre</b> - The center of the histogram would likely be around the median value, which is 1. The median represents the middle value in the dataset, where half of the charges are below this value and half are above. However, I believe the center of the histogram will be little shifted towards the higher count, reflecting the longer tail on the right side of the distribution.\n",
    "\n",
    "<b>Spread</b> - The data runs from 0  to 5 , hence the approximate range is 5.\n",
    "\n",
    "<b>Outliers</b> - There appears to be no probable outlier.\n"
   ]
  },
  {
   "cell_type": "markdown",
   "id": "c2a90fe3-2640-4d5c-8735-fdcb96972228",
   "metadata": {},
   "source": [
    "##### Calculating mode, mean, median"
   ]
  },
  {
   "cell_type": "code",
   "execution_count": 37,
   "id": "e1f5cc40-6e75-4c82-8c49-5105bf239612",
   "metadata": {},
   "outputs": [
    {
     "data": {
      "text/plain": [
       "0    0\n",
       "Name: children, dtype: int64"
      ]
     },
     "execution_count": 37,
     "metadata": {},
     "output_type": "execute_result"
    }
   ],
   "source": [
    "dataset_frame['children'].mode()"
   ]
  },
  {
   "cell_type": "code",
   "execution_count": 38,
   "id": "f4db83ae-1273-4606-853c-1a01fa564852",
   "metadata": {},
   "outputs": [
    {
     "data": {
      "text/plain": [
       "1.0949177877429"
      ]
     },
     "execution_count": 38,
     "metadata": {},
     "output_type": "execute_result"
    }
   ],
   "source": [
    "dataset_frame['children'].mean()"
   ]
  },
  {
   "cell_type": "code",
   "execution_count": 39,
   "id": "f3912cf0-8117-42ba-9665-4928a5853a01",
   "metadata": {},
   "outputs": [
    {
     "data": {
      "text/plain": [
       "1.0"
      ]
     },
     "execution_count": 39,
     "metadata": {},
     "output_type": "execute_result"
    }
   ],
   "source": [
    "dataset_frame['children'].median()"
   ]
  },
  {
   "cell_type": "markdown",
   "id": "a8dee912-e98c-4402-a7ad-e9fd17d05844",
   "metadata": {},
   "source": [
    "- The mode of the \"children\" variable in the dataset is 0, which means that 0 is the most frequently occurring number of children among the individuals.\n",
    "\n",
    "- The mean number of children in the dataset is approximately 1.09, indicating the average number of children per individual.\n",
    "\n",
    "- The median number of children in the dataset is 1, which represents the middle value when all numbers of children are arranged in ascending order."
   ]
  },
  {
   "cell_type": "markdown",
   "id": "aea2988e-839d-4e2e-8dc2-2a3ba372b0c0",
   "metadata": {},
   "source": [
    "##### Calculating the min, max, range for quantitative variable"
   ]
  },
  {
   "cell_type": "code",
   "execution_count": 40,
   "id": "d6bfafba-aae4-443f-a826-185718bad7ca",
   "metadata": {},
   "outputs": [
    {
     "name": "stdout",
     "output_type": "stream",
     "text": [
      " \n",
      " Min = 0 \n",
      " Max = 5 \n",
      " Range = 5\n"
     ]
    }
   ],
   "source": [
    "min_ = dataset_frame['children'].min()\n",
    "max_ = dataset_frame['children'].max()\n",
    "range_ = max_ - min_\n",
    "\n",
    "print(f' \\n Min = {min_} \\n Max = {max_} \\n Range = {range_}')\n"
   ]
  },
  {
   "cell_type": "markdown",
   "id": "a85e5f54-1221-429c-bcfd-261108c717f8",
   "metadata": {},
   "source": [
    "The minimum number of children is 0.\n",
    "The maximum number of children is 5.\n",
    "The range of the number of children in the dataset is calculated as the difference between the maximum and minimum values: 5 - 0 = 5."
   ]
  },
  {
   "cell_type": "markdown",
   "id": "1369ef8d-31e8-4bc7-9d0b-7c200108cbb3",
   "metadata": {},
   "source": [
    "##### Calculating quantiles, IQR, outliers"
   ]
  },
  {
   "cell_type": "code",
   "execution_count": 41,
   "id": "174abeab-8db1-4fec-a99b-117dffbef6ea",
   "metadata": {},
   "outputs": [
    {
     "name": "stdout",
     "output_type": "stream",
     "text": [
      " \n",
      " Q25 = 0.0 \n",
      " Q75 = 2.0 \n",
      " IQR = 2.0\n",
      " Outlier = Series([], Name: children, dtype: int64)\n"
     ]
    }
   ],
   "source": [
    "Q25 = dataset_frame['children'].quantile(0.25)\n",
    "Q75 = dataset_frame['children'].quantile(0.75)\n",
    "IQR = Q75 - Q25\n",
    "\n",
    "children_outliers = dataset_frame[(dataset_frame.children < Q25 - 1.5*IQR)|(dataset_frame.children > Q75 + 1.5*IQR)]['children']\n",
    "\n",
    "print(f' \\n Q25 = {Q25} \\n Q75 = {Q75} \\n IQR = {IQR}\\n Outlier = {children_outliers}')"
   ]
  },
  {
   "cell_type": "markdown",
   "id": "3e8ec563-20e0-4f83-b6db-89fe27a75840",
   "metadata": {},
   "source": [
    "The 25th percentile (Q1 or Q25) is 0.0, indicating that 25% of the individuals in the dataset have 0 or fewer children.\n",
    "The 75th percentile (Q3 or Q75) is 2.0, indicating that 75% of the individuals in the dataset have 2 or fewer children.\n",
    "The interquartile range (IQR) is calculated as Q3 - Q1: 2.0 - 0.0 = 2.0. \n",
    "\n",
    "The IQR represents the middle 50% of the distribution of the number of children in the dataset."
   ]
  },
  {
   "cell_type": "markdown",
   "id": "12c454eb-af9c-46fc-bbff-d70011da5497",
   "metadata": {},
   "source": [
    "##### Calculating standard deviation"
   ]
  },
  {
   "cell_type": "code",
   "execution_count": 42,
   "id": "f401deb4-69a3-4d18-8cea-f07bbe11120e",
   "metadata": {},
   "outputs": [
    {
     "data": {
      "text/plain": [
       "1.205492739781914"
      ]
     },
     "execution_count": 42,
     "metadata": {},
     "output_type": "execute_result"
    }
   ],
   "source": [
    "children_std = dataset_frame['children'].std()\n",
    "children_std"
   ]
  },
  {
   "cell_type": "markdown",
   "id": "46481e57-67ba-4129-bdbf-f8c7dfd1c2de",
   "metadata": {},
   "source": [
    "##### Box Plot"
   ]
  },
  {
   "cell_type": "code",
   "execution_count": 43,
   "id": "0828f978-cbfa-48d4-8675-7d09b58b0a62",
   "metadata": {},
   "outputs": [
    {
     "data": {
      "text/plain": [
       "Text(0, 0.5, 'Childrens')"
      ]
     },
     "execution_count": 43,
     "metadata": {},
     "output_type": "execute_result"
    },
    {
     "data": {
      "image/png": "[encoded data removed]",
      "text/plain": [
       "<Figure size 640x480 with 1 Axes>"
      ]
     },
     "metadata": {},
     "output_type": "display_data"
    }
   ],
   "source": [
    "plt.boxplot(x=dataset_frame['children'], labels = ['children'])\n",
    "plt.ylabel('Childrens')"
   ]
  },
  {
   "cell_type": "markdown",
   "id": "7f38b4c4-2e99-4bf8-ad9d-d0f9798a6b1f",
   "metadata": {},
   "source": [
    "The 25th percentile (Q1 or Q25) is 0.0, indicating that 25% of the individuals in the dataset have 0 or fewer children. \n",
    "\n",
    "The 75th percentile (Q3 or Q75) is 2.0, indicating that 75% of the individuals in the dataset have 2 or fewer children. \n",
    "\n",
    "The interquartile range (IQR) is calculated as Q3 - Q1: 2.0 - 0.0 = 2.0.\n",
    "\n",
    "The boxplot shows no possible outliers."
   ]
  },
  {
   "cell_type": "markdown",
   "id": "d0095bab-975d-4007-9101-c03d4cbfddc2",
   "metadata": {},
   "source": [
    "#### 4. BMI"
   ]
  },
  {
   "cell_type": "markdown",
   "id": "878e393e-8f28-4872-b18f-81d2cfd87a3b",
   "metadata": {},
   "source": [
    "##### Describing Variable"
   ]
  },
  {
   "cell_type": "code",
   "execution_count": 44,
   "id": "97dedf5f-f58d-462b-a60d-0bbad323028d",
   "metadata": {},
   "outputs": [
    {
     "data": {
      "text/plain": [
       "count    1338.000000\n",
       "mean       30.663397\n",
       "std         6.098187\n",
       "min        15.960000\n",
       "25%        26.296250\n",
       "50%        30.400000\n",
       "75%        34.693750\n",
       "max        53.130000\n",
       "Name: bmi, dtype: float64"
      ]
     },
     "execution_count": 44,
     "metadata": {},
     "output_type": "execute_result"
    }
   ],
   "source": [
    "dataset_frame['bmi'].describe()"
   ]
  },
  {
   "cell_type": "markdown",
   "id": "221ecba5-d856-421b-a527-3d267bb2b4f3",
   "metadata": {},
   "source": [
    "- The dataset contains 1338 observations of BMI values.\n",
    "- The mean BMI is approximately 30.66, indicating the average BMI value in the dataset.\n",
    "- The standard deviation (std) of BMI values is approximately 6.10, representing the variability or spread of BMI values around the mean.\n",
    "- The minimum BMI value in the dataset is 15.96, while the maximum BMI value is 53.13.\n",
    "- The quartiles (25th, 50th, and 75th percentiles) provide additional insights into the distribution of BMI values:\n",
    "  - 25% of BMI values are below or equal to 26.30.\n",
    "  - 50% of BMI values (the median) are below or equal to 30.40.\n",
    "  - 75% of BMI values are below or equal to 34.69."
   ]
  },
  {
   "cell_type": "markdown",
   "id": "2e2abeda-c8d6-42e6-84ee-b4bd057caf3d",
   "metadata": {},
   "source": [
    "##### Plot histogram"
   ]
  },
  {
   "cell_type": "code",
   "execution_count": 45,
   "id": "8b107081-66a7-4288-8a5a-b93141159328",
   "metadata": {},
   "outputs": [
    {
     "data": {
      "text/plain": [
       "Text(0.5, 1.0, 'Histogram of BMI')"
      ]
     },
     "execution_count": 45,
     "metadata": {},
     "output_type": "execute_result"
    },
    {
     "data": {
      "image/png": "[encoded data removed]",
      "text/plain": [
       "<Figure size 640x480 with 1 Axes>"
      ]
     },
     "metadata": {},
     "output_type": "display_data"
    }
   ],
   "source": [
    "plt.hist(x = dataset_frame['bmi'], bins = 20, histtype='bar')\n",
    "plt.xlabel('BMI')\n",
    "plt.ylabel('Count')\n",
    "plt.title('Histogram of BMI')\n"
   ]
  },
  {
   "cell_type": "markdown",
   "id": "fb81073b-060c-4726-ae18-e2b479ef52af",
   "metadata": {},
   "source": [
    "This histogram visualisation depicts the distribution of BMI in the dataset.\n",
    "\n",
    "<b>Shape</b> - This histogram has a skewed right distribution considering with possible outliers.\n",
    "\n",
    "<b>Centre</b> - The center of the histogram would likely be around the median value, which is 30.4.\n",
    "\n",
    "<b>Spread</b> - The data runs from 15.96 to 53.13, hence the approximate range is 53.13  - 15.96 = 37.17.\n",
    "\n",
    "<b>Outliers</b> - There appears to be few probable outlier.\n"
   ]
  },
  {
   "cell_type": "markdown",
   "id": "a31ea938-5d71-46a5-ac92-aa0fd8010604",
   "metadata": {},
   "source": [
    "##### Calculating mode, mean, median"
   ]
  },
  {
   "cell_type": "code",
   "execution_count": 46,
   "id": "f7586b52-c0bc-4abc-959e-b2807c85b792",
   "metadata": {},
   "outputs": [
    {
     "data": {
      "text/plain": [
       "0    32.3\n",
       "Name: bmi, dtype: float64"
      ]
     },
     "execution_count": 46,
     "metadata": {},
     "output_type": "execute_result"
    }
   ],
   "source": [
    "dataset_frame['bmi'].mode()"
   ]
  },
  {
   "cell_type": "code",
   "execution_count": 47,
   "id": "91f1f998-17ac-4563-8e27-7f561432703f",
   "metadata": {},
   "outputs": [
    {
     "data": {
      "text/plain": [
       "30.66339686098655"
      ]
     },
     "execution_count": 47,
     "metadata": {},
     "output_type": "execute_result"
    }
   ],
   "source": [
    "dataset_frame['bmi'].mean()"
   ]
  },
  {
   "cell_type": "code",
   "execution_count": 48,
   "id": "7f3634ef-f3c3-4863-926b-8b0997a52257",
   "metadata": {},
   "outputs": [
    {
     "data": {
      "text/plain": [
       "30.4"
      ]
     },
     "execution_count": 48,
     "metadata": {},
     "output_type": "execute_result"
    }
   ],
   "source": [
    "dataset_frame['bmi'].median()"
   ]
  },
  {
   "cell_type": "markdown",
   "id": "a0ef1c54-c1e1-4b8a-86ca-7372222ee5b4",
   "metadata": {},
   "source": [
    "The mode of the \"bmi\" (Body Mass Index) variable in the dataset is 32.3, indicating that 32.3 is the most frequently occurring BMI value among the individuals.\n",
    "\n",
    "The mean BMI in the dataset is approximately 30.66, representing the average BMI value.\n",
    "\n",
    "The median BMI in the dataset is 30.4, which is the middle value when all BMI values are arranged in ascending order."
   ]
  },
  {
   "cell_type": "markdown",
   "id": "ae82a7c5-5ad6-4212-988c-5595b9ff4659",
   "metadata": {},
   "source": [
    "##### Calculating the min, max, range for quantitative variable"
   ]
  },
  {
   "cell_type": "code",
   "execution_count": 49,
   "id": "71346baa-336e-412b-931d-d948490750a7",
   "metadata": {},
   "outputs": [
    {
     "name": "stdout",
     "output_type": "stream",
     "text": [
      " \n",
      " Min = 15.96 \n",
      " Max = 53.13 \n",
      " Range = 37.17\n"
     ]
    }
   ],
   "source": [
    "min_ = dataset_frame['bmi'].min()\n",
    "max_ = dataset_frame['bmi'].max()\n",
    "range_ = max_ - min_\n",
    "\n",
    "print(f' \\n Min = {min_} \\n Max = {max_} \\n Range = {range_}')\n"
   ]
  },
  {
   "cell_type": "markdown",
   "id": "96dc0520-0277-4ae3-bb0f-8173c1bfea8b",
   "metadata": {},
   "source": [
    "The minimum BMI value is 15.96.\n",
    "\n",
    "The maximum BMI value is 53.13.\n",
    "\n",
    "The range of BMI values in the dataset is calculated as the difference between the maximum and minimum values: 53.13 - 15.96 = 37.17."
   ]
  },
  {
   "cell_type": "markdown",
   "id": "7dedc582-d904-415e-bcf1-4e56ce634972",
   "metadata": {},
   "source": [
    "##### Calculating quantiles, IQR, outliers"
   ]
  },
  {
   "cell_type": "code",
   "execution_count": 50,
   "id": "fae4b6b7-6627-4071-8389-b472ef6776ac",
   "metadata": {},
   "outputs": [
    {
     "name": "stdout",
     "output_type": "stream",
     "text": [
      " \n",
      " Q25 = 26.29625 \n",
      " Q75 = 34.69375 \n",
      " IQR = 8.3975\n",
      " Outlier = 116     49.06\n",
      "286     48.07\n",
      "401     47.52\n",
      "543     47.41\n",
      "847     50.38\n",
      "860     47.60\n",
      "1047    52.58\n",
      "1088    47.74\n",
      "1317    53.13\n",
      "Name: bmi, dtype: float64\n"
     ]
    }
   ],
   "source": [
    "Q25 = dataset_frame['bmi'].quantile(0.25)\n",
    "Q75 = dataset_frame['bmi'].quantile(0.75)\n",
    "IQR = Q75 - Q25\n",
    "\n",
    "bmi_outliers = dataset_frame[(dataset_frame.bmi < Q25 - 1.5*IQR)|(dataset_frame.bmi > Q75 + 1.5*IQR)]['bmi']\n",
    "\n",
    "print(f' \\n Q25 = {Q25} \\n Q75 = {Q75} \\n IQR = {IQR}\\n Outlier = {bmi_outliers}')"
   ]
  },
  {
   "cell_type": "markdown",
   "id": "ea81a9e7-4549-48b8-9eac-fd3733f4d3f7",
   "metadata": {},
   "source": [
    "The 25th percentile (Q1 or Q25) is 26.29625, indicating that 25% of individuals have a BMI of 26.29625 or lower.\n",
    "\n",
    "The 75th percentile (Q3 or Q75) is 34.69375, indicating that 75% of individuals have a BMI of 34.69375 or lower.\n",
    "\n",
    "The interquartile range (IQR) is calculated as Q3 - Q1: 34.69375 - 26.29625 = 8.3975. \n",
    "\n",
    "The IQR represents the middle 50% of the distribution of BMI values in the dataset.\n",
    "\n",
    "Based on the IQR rule for identifying outliers (values below Q1 - 1.5 * IQR or above Q3 + 1.5 * IQR), there are several outliers in the \"bmi\" variable in the dataset. The outliers are listed as BMI values along with their corresponding indices in the dataset."
   ]
  },
  {
   "cell_type": "markdown",
   "id": "476fd20e-894a-4c0e-b60b-f224d30947e8",
   "metadata": {},
   "source": [
    "##### Calculating standard deviation"
   ]
  },
  {
   "cell_type": "code",
   "execution_count": 51,
   "id": "67eca3c4-c76c-4b30-974b-03dc008b7726",
   "metadata": {},
   "outputs": [
    {
     "data": {
      "text/plain": [
       "6.098186911679014"
      ]
     },
     "execution_count": 51,
     "metadata": {},
     "output_type": "execute_result"
    }
   ],
   "source": [
    "bmi_std = dataset_frame['bmi'].std()\n",
    "bmi_std"
   ]
  },
  {
   "cell_type": "markdown",
   "id": "bab2975b-0ace-4170-98c4-57803ff7b886",
   "metadata": {},
   "source": [
    "##### Box plot"
   ]
  },
  {
   "cell_type": "code",
   "execution_count": 52,
   "id": "2c6f7a16-4c49-4592-a6b1-bcb30b7d10fb",
   "metadata": {},
   "outputs": [
    {
     "data": {
      "text/plain": [
       "Text(0, 0.5, 'BMI')"
      ]
     },
     "execution_count": 52,
     "metadata": {},
     "output_type": "execute_result"
    },
    {
     "data": {
      "image/png": "[encoded data removed]",
      "text/plain": [
       "<Figure size 640x480 with 1 Axes>"
      ]
     },
     "metadata": {},
     "output_type": "display_data"
    }
   ],
   "source": [
    "plt.boxplot(x=dataset_frame['bmi'], labels = ['bmi'])\n",
    "plt.ylabel('BMI')"
   ]
  },
  {
   "cell_type": "markdown",
   "id": "81a2940f-9035-481f-ac10-4cc403573a80",
   "metadata": {},
   "source": [
    "The 25th percentile (Q1 or Q25) is 26.29625, indicating that 25% of individuals have a BMI of 26.29625 or lower.\n",
    "\n",
    "The 75th percentile (Q3 or Q75) is 34.69375, indicating that 75% of individuals have a BMI of 34.69375 or lower.\n",
    "\n",
    "Few outliers observed above the upper whisker (i.e above 47.74).\n",
    "\n",
    "The Median of the boxplot is 30.4."
   ]
  }
 ],
 "metadata": {
  "kernelspec": {
   "display_name": "Python 3 (ipykernel)",
   "language": "python",
   "name": "python3"
  },
  "language_info": {
   "codemirror_mode": {
    "name": "ipython",
    "version": 3
   },
   "file_extension": ".py",
   "mimetype": "text/x-python",
   "name": "python",
   "nbconvert_exporter": "python",
   "pygments_lexer": "ipython3",
   "version": "3.12.1"
  }
 },
 "nbformat": 4,
 "nbformat_minor": 5
}
