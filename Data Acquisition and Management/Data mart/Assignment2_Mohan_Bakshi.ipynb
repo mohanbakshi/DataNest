{
 "cells": [
  {
   "cell_type": "markdown",
   "metadata": {},
   "source": [
    "## ASSIGNMNET 2 - MOHAN BAKSHI"
   ]
  },
  {
   "cell_type": "markdown",
   "metadata": {},
   "source": [
    "In this assignment, We'll be integrating data from three distinct sources: Flat File Source, combining employee data from employee.csv and employee.json files; API Source, and Database Source, using the Snowflake database. "
   ]
  },
  {
   "cell_type": "code",
   "execution_count": 1,
   "metadata": {},
   "outputs": [],
   "source": [
    "# Importing the libraries\n",
    "\n",
    "import snowflake.connector\n",
    "import pandas as pd\n",
    "from snowflake.connector.pandas_tools import write_pandas\n",
    "from xml.etree import ElementTree as ET\n",
    "import requests\n",
    "from IPython.display import display\n"
   ]
  },
  {
   "cell_type": "code",
   "execution_count": 2,
   "metadata": {},
   "outputs": [],
   "source": [
    "# Loading Employees.csv\n",
    "employee_csv = pd.read_csv('employees.csv')"
   ]
  },
  {
   "cell_type": "code",
   "execution_count": 3,
   "metadata": {},
   "outputs": [
    {
     "data": {
      "text/html": [
       "<div>\n",
       "<style scoped>\n",
       "    .dataframe tbody tr th:only-of-type {\n",
       "        vertical-align: middle;\n",
       "    }\n",
       "\n",
       "    .dataframe tbody tr th {\n",
       "        vertical-align: top;\n",
       "    }\n",
       "\n",
       "    .dataframe thead th {\n",
       "        text-align: right;\n",
       "    }\n",
       "</style>\n",
       "<table border=\"1\" class=\"dataframe\">\n",
       "  <thead>\n",
       "    <tr style=\"text-align: right;\">\n",
       "      <th></th>\n",
       "      <th>id</th>\n",
       "      <th>name</th>\n",
       "      <th>department</th>\n",
       "      <th>salary</th>\n",
       "    </tr>\n",
       "  </thead>\n",
       "  <tbody>\n",
       "    <tr>\n",
       "      <th>0</th>\n",
       "      <td>1</td>\n",
       "      <td>Alice Johnson</td>\n",
       "      <td>Finance</td>\n",
       "      <td>50091</td>\n",
       "    </tr>\n",
       "    <tr>\n",
       "      <th>1</th>\n",
       "      <td>2</td>\n",
       "      <td>Alice Johnson</td>\n",
       "      <td>IT</td>\n",
       "      <td>57010</td>\n",
       "    </tr>\n",
       "    <tr>\n",
       "      <th>2</th>\n",
       "      <td>3</td>\n",
       "      <td>Alice Johnson</td>\n",
       "      <td>Finance</td>\n",
       "      <td>78148</td>\n",
       "    </tr>\n",
       "  </tbody>\n",
       "</table>\n",
       "</div>"
      ],
      "text/plain": [
       "   id           name department  salary\n",
       "0   1  Alice Johnson    Finance   50091\n",
       "1   2  Alice Johnson         IT   57010\n",
       "2   3  Alice Johnson    Finance   78148"
      ]
     },
     "execution_count": 3,
     "metadata": {},
     "output_type": "execute_result"
    }
   ],
   "source": [
    "employee_csv.head()"
   ]
  },
  {
   "cell_type": "code",
   "execution_count": 4,
   "metadata": {},
   "outputs": [],
   "source": [
    "# Loading Employees.json\n",
    "\n",
    "employee_json = pd.read_json('employees.json')"
   ]
  },
  {
   "cell_type": "code",
   "execution_count": 5,
   "metadata": {},
   "outputs": [
    {
     "data": {
      "text/html": [
       "<div>\n",
       "<style scoped>\n",
       "    .dataframe tbody tr th:only-of-type {\n",
       "        vertical-align: middle;\n",
       "    }\n",
       "\n",
       "    .dataframe tbody tr th {\n",
       "        vertical-align: top;\n",
       "    }\n",
       "\n",
       "    .dataframe thead th {\n",
       "        text-align: right;\n",
       "    }\n",
       "</style>\n",
       "<table border=\"1\" class=\"dataframe\">\n",
       "  <thead>\n",
       "    <tr style=\"text-align: right;\">\n",
       "      <th></th>\n",
       "      <th>id</th>\n",
       "      <th>name</th>\n",
       "      <th>department</th>\n",
       "      <th>salary</th>\n",
       "    </tr>\n",
       "  </thead>\n",
       "  <tbody>\n",
       "    <tr>\n",
       "      <th>0</th>\n",
       "      <td>1</td>\n",
       "      <td>C Ronald</td>\n",
       "      <td>Finance</td>\n",
       "      <td>22091</td>\n",
       "    </tr>\n",
       "    <tr>\n",
       "      <th>1</th>\n",
       "      <td>2</td>\n",
       "      <td>trump D</td>\n",
       "      <td>IT</td>\n",
       "      <td>87010</td>\n",
       "    </tr>\n",
       "    <tr>\n",
       "      <th>2</th>\n",
       "      <td>3</td>\n",
       "      <td>Biden J</td>\n",
       "      <td>Finance</td>\n",
       "      <td>99148</td>\n",
       "    </tr>\n",
       "  </tbody>\n",
       "</table>\n",
       "</div>"
      ],
      "text/plain": [
       "   id      name department  salary\n",
       "0   1  C Ronald    Finance   22091\n",
       "1   2   trump D         IT   87010\n",
       "2   3   Biden J    Finance   99148"
      ]
     },
     "execution_count": 5,
     "metadata": {},
     "output_type": "execute_result"
    }
   ],
   "source": [
    "employee_json.head()"
   ]
  },
  {
   "cell_type": "code",
   "execution_count": 6,
   "metadata": {},
   "outputs": [],
   "source": [
    "# Load XML data\n",
    "employee_parsing = ET.parse('employees.xml')\n",
    "get_employee_parsing_root = employee_parsing.getroot()\n",
    "employee_xml_data = []\n",
    "for employee in get_employee_parsing_root.findall('employee'):\n",
    "    employee_dict = {}\n",
    "    for child in employee:\n",
    "        employee_dict[child.tag] = child.text\n",
    "    employee_xml_data.append(employee_dict)\n",
    "\n",
    "employee_xml = pd.DataFrame(employee_xml_data)"
   ]
  },
  {
   "cell_type": "code",
   "execution_count": 7,
   "metadata": {},
   "outputs": [
    {
     "data": {
      "text/html": [
       "<div>\n",
       "<style scoped>\n",
       "    .dataframe tbody tr th:only-of-type {\n",
       "        vertical-align: middle;\n",
       "    }\n",
       "\n",
       "    .dataframe tbody tr th {\n",
       "        vertical-align: top;\n",
       "    }\n",
       "\n",
       "    .dataframe thead th {\n",
       "        text-align: right;\n",
       "    }\n",
       "</style>\n",
       "<table border=\"1\" class=\"dataframe\">\n",
       "  <thead>\n",
       "    <tr style=\"text-align: right;\">\n",
       "      <th></th>\n",
       "      <th>id</th>\n",
       "      <th>name</th>\n",
       "      <th>department</th>\n",
       "      <th>salary</th>\n",
       "    </tr>\n",
       "  </thead>\n",
       "  <tbody>\n",
       "    <tr>\n",
       "      <th>0</th>\n",
       "      <td>1</td>\n",
       "      <td>Alice Kent</td>\n",
       "      <td>Finance</td>\n",
       "      <td>60000</td>\n",
       "    </tr>\n",
       "    <tr>\n",
       "      <th>1</th>\n",
       "      <td>2</td>\n",
       "      <td>Victor Johnson</td>\n",
       "      <td>IT</td>\n",
       "      <td>66010</td>\n",
       "    </tr>\n",
       "    <tr>\n",
       "      <th>2</th>\n",
       "      <td>3</td>\n",
       "      <td>J Johnson</td>\n",
       "      <td>Finance</td>\n",
       "      <td>11148</td>\n",
       "    </tr>\n",
       "  </tbody>\n",
       "</table>\n",
       "</div>"
      ],
      "text/plain": [
       "  id            name department salary\n",
       "0  1      Alice Kent    Finance  60000\n",
       "1  2  Victor Johnson         IT  66010\n",
       "2  3       J Johnson    Finance  11148"
      ]
     },
     "execution_count": 7,
     "metadata": {},
     "output_type": "execute_result"
    }
   ],
   "source": [
    "employee_xml.head()"
   ]
  },
  {
   "cell_type": "code",
   "execution_count": 8,
   "metadata": {},
   "outputs": [],
   "source": [
    "# Merging CSV, JSON, and XML data\n",
    "final_employees_data = pd.concat([employee_csv, employee_json, employee_xml])\n",
    "\n",
    "# Resetting the index to ensure sequential IDs\n",
    "final_employees_data.reset_index(drop=True, inplace=True)\n",
    "\n",
    "# Reassigning sequential IDs starting from 1\n",
    "final_employees_data['id'] = range(1, len(final_employees_data) + 1)\n",
    "\n",
    "# Saving the combined data to a new CSV file\n",
    "final_employees_data.to_csv('final_employees_data.csv', index=False)"
   ]
  },
  {
   "cell_type": "code",
   "execution_count": 9,
   "metadata": {},
   "outputs": [
    {
     "data": {
      "text/html": [
       "<div>\n",
       "<style scoped>\n",
       "    .dataframe tbody tr th:only-of-type {\n",
       "        vertical-align: middle;\n",
       "    }\n",
       "\n",
       "    .dataframe tbody tr th {\n",
       "        vertical-align: top;\n",
       "    }\n",
       "\n",
       "    .dataframe thead th {\n",
       "        text-align: right;\n",
       "    }\n",
       "</style>\n",
       "<table border=\"1\" class=\"dataframe\">\n",
       "  <thead>\n",
       "    <tr style=\"text-align: right;\">\n",
       "      <th></th>\n",
       "      <th>id</th>\n",
       "      <th>name</th>\n",
       "      <th>department</th>\n",
       "      <th>salary</th>\n",
       "    </tr>\n",
       "  </thead>\n",
       "  <tbody>\n",
       "    <tr>\n",
       "      <th>0</th>\n",
       "      <td>1</td>\n",
       "      <td>Alice Johnson</td>\n",
       "      <td>Finance</td>\n",
       "      <td>50091</td>\n",
       "    </tr>\n",
       "    <tr>\n",
       "      <th>1</th>\n",
       "      <td>2</td>\n",
       "      <td>Alice Johnson</td>\n",
       "      <td>IT</td>\n",
       "      <td>57010</td>\n",
       "    </tr>\n",
       "    <tr>\n",
       "      <th>2</th>\n",
       "      <td>3</td>\n",
       "      <td>Alice Johnson</td>\n",
       "      <td>Finance</td>\n",
       "      <td>78148</td>\n",
       "    </tr>\n",
       "    <tr>\n",
       "      <th>3</th>\n",
       "      <td>4</td>\n",
       "      <td>C Ronald</td>\n",
       "      <td>Finance</td>\n",
       "      <td>22091</td>\n",
       "    </tr>\n",
       "    <tr>\n",
       "      <th>4</th>\n",
       "      <td>5</td>\n",
       "      <td>trump D</td>\n",
       "      <td>IT</td>\n",
       "      <td>87010</td>\n",
       "    </tr>\n",
       "    <tr>\n",
       "      <th>5</th>\n",
       "      <td>6</td>\n",
       "      <td>Biden J</td>\n",
       "      <td>Finance</td>\n",
       "      <td>99148</td>\n",
       "    </tr>\n",
       "    <tr>\n",
       "      <th>6</th>\n",
       "      <td>7</td>\n",
       "      <td>Alice Kent</td>\n",
       "      <td>Finance</td>\n",
       "      <td>60000</td>\n",
       "    </tr>\n",
       "    <tr>\n",
       "      <th>7</th>\n",
       "      <td>8</td>\n",
       "      <td>Victor Johnson</td>\n",
       "      <td>IT</td>\n",
       "      <td>66010</td>\n",
       "    </tr>\n",
       "    <tr>\n",
       "      <th>8</th>\n",
       "      <td>9</td>\n",
       "      <td>J Johnson</td>\n",
       "      <td>Finance</td>\n",
       "      <td>11148</td>\n",
       "    </tr>\n",
       "  </tbody>\n",
       "</table>\n",
       "</div>"
      ],
      "text/plain": [
       "   id            name department salary\n",
       "0   1   Alice Johnson    Finance  50091\n",
       "1   2   Alice Johnson         IT  57010\n",
       "2   3   Alice Johnson    Finance  78148\n",
       "3   4        C Ronald    Finance  22091\n",
       "4   5         trump D         IT  87010\n",
       "5   6         Biden J    Finance  99148\n",
       "6   7      Alice Kent    Finance  60000\n",
       "7   8  Victor Johnson         IT  66010\n",
       "8   9       J Johnson    Finance  11148"
      ]
     },
     "execution_count": 9,
     "metadata": {},
     "output_type": "execute_result"
    }
   ],
   "source": [
    "# Checking the final_employees_data first 10 records.\n",
    "final_employees_data.head(10)\n"
   ]
  },
  {
   "cell_type": "code",
   "execution_count": 10,
   "metadata": {},
   "outputs": [
    {
     "data": {
      "text/plain": [
       "(100, 4)"
      ]
     },
     "metadata": {},
     "output_type": "display_data"
    },
    {
     "data": {
      "text/html": [
       "<div>\n",
       "<style scoped>\n",
       "    .dataframe tbody tr th:only-of-type {\n",
       "        vertical-align: middle;\n",
       "    }\n",
       "\n",
       "    .dataframe tbody tr th {\n",
       "        vertical-align: top;\n",
       "    }\n",
       "\n",
       "    .dataframe thead th {\n",
       "        text-align: right;\n",
       "    }\n",
       "</style>\n",
       "<table border=\"1\" class=\"dataframe\">\n",
       "  <thead>\n",
       "    <tr style=\"text-align: right;\">\n",
       "      <th></th>\n",
       "      <th>userId</th>\n",
       "      <th>id</th>\n",
       "      <th>title</th>\n",
       "      <th>body</th>\n",
       "    </tr>\n",
       "  </thead>\n",
       "  <tbody>\n",
       "    <tr>\n",
       "      <th>0</th>\n",
       "      <td>1</td>\n",
       "      <td>1</td>\n",
       "      <td>sunt aut facere repellat provident occaecati e...</td>\n",
       "      <td>quia et suscipit\\nsuscipit recusandae consequu...</td>\n",
       "    </tr>\n",
       "    <tr>\n",
       "      <th>1</th>\n",
       "      <td>1</td>\n",
       "      <td>2</td>\n",
       "      <td>qui est esse</td>\n",
       "      <td>est rerum tempore vitae\\nsequi sint nihil repr...</td>\n",
       "    </tr>\n",
       "    <tr>\n",
       "      <th>2</th>\n",
       "      <td>1</td>\n",
       "      <td>3</td>\n",
       "      <td>ea molestias quasi exercitationem repellat qui...</td>\n",
       "      <td>et iusto sed quo iure\\nvoluptatem occaecati om...</td>\n",
       "    </tr>\n",
       "    <tr>\n",
       "      <th>3</th>\n",
       "      <td>1</td>\n",
       "      <td>4</td>\n",
       "      <td>eum et est occaecati</td>\n",
       "      <td>ullam et saepe reiciendis voluptatem adipisci\\...</td>\n",
       "    </tr>\n",
       "    <tr>\n",
       "      <th>4</th>\n",
       "      <td>1</td>\n",
       "      <td>5</td>\n",
       "      <td>nesciunt quas odio</td>\n",
       "      <td>repudiandae veniam quaerat sunt sed\\nalias aut...</td>\n",
       "    </tr>\n",
       "  </tbody>\n",
       "</table>\n",
       "</div>"
      ],
      "text/plain": [
       "   userId  id                                              title  \\\n",
       "0       1   1  sunt aut facere repellat provident occaecati e...   \n",
       "1       1   2                                       qui est esse   \n",
       "2       1   3  ea molestias quasi exercitationem repellat qui...   \n",
       "3       1   4                               eum et est occaecati   \n",
       "4       1   5                                 nesciunt quas odio   \n",
       "\n",
       "                                                body  \n",
       "0  quia et suscipit\\nsuscipit recusandae consequu...  \n",
       "1  est rerum tempore vitae\\nsequi sint nihil repr...  \n",
       "2  et iusto sed quo iure\\nvoluptatem occaecati om...  \n",
       "3  ullam et saepe reiciendis voluptatem adipisci\\...  \n",
       "4  repudiandae veniam quaerat sunt sed\\nalias aut...  "
      ]
     },
     "metadata": {},
     "output_type": "display_data"
    }
   ],
   "source": [
    "# Fetching data from the API\n",
    "api_url = 'https://jsonplaceholder.typicode.com/posts'\n",
    "response = requests.get(api_url)\n",
    "\n",
    "# Convering JSON response to DataFrame\n",
    "api_dataframe = pd.DataFrame(response.json())\n",
    "\n",
    "\n",
    "# Checking the shape and first 5 records\n",
    "display(api_dataframe.shape)\n",
    "display(api_dataframe.head())\n"
   ]
  },
  {
   "cell_type": "code",
   "execution_count": 11,
   "metadata": {},
   "outputs": [
    {
     "name": "stdout",
     "output_type": "stream",
     "text": [
      "Quantitative columns are: ['id', 'userId']\n",
      "Categorical columns are: ['body', 'title']\n"
     ]
    }
   ],
   "source": [
    "# Classifying column into categorical and quantitaive columns\n",
    "\n",
    "def check_columns(df: pd.DataFrame):\n",
    "    columns = df.columns\n",
    "    quantitative_columns = list(set(df._get_numeric_data().columns))\n",
    "    categorical_columns = list(set(columns) - set(quantitative_columns))\n",
    "    return quantitative_columns, categorical_columns\n",
    "\n",
    "quan_cols, cat_cols = check_columns(api_dataframe)\n",
    "print(f'Quantitative columns are: {quan_cols}')\n",
    "print(f'Categorical columns are: {cat_cols}')"
   ]
  },
  {
   "cell_type": "code",
   "execution_count": 12,
   "metadata": {},
   "outputs": [
    {
     "name": "stdout",
     "output_type": "stream",
     "text": [
      "<class 'pandas.core.frame.DataFrame'>\n",
      "RangeIndex: 100 entries, 0 to 99\n",
      "Data columns (total 4 columns):\n",
      " #   Column  Non-Null Count  Dtype \n",
      "---  ------  --------------  ----- \n",
      " 0   userId  100 non-null    int64 \n",
      " 1   id      100 non-null    int64 \n",
      " 2   title   100 non-null    object\n",
      " 3   body    100 non-null    object\n",
      "dtypes: int64(2), object(2)\n",
      "memory usage: 3.3+ KB\n"
     ]
    }
   ],
   "source": [
    "# Information about the dataset\n",
    "api_dataframe.info()"
   ]
  },
  {
   "cell_type": "markdown",
   "metadata": {},
   "source": [
    "- The DataFrame has a RangeIndex from 0 to 99.\n",
    "- It contains four columns: 'userId' (int64), 'id' (int64), 'title' (object), and 'body' (object).\n",
    "- All 100 entries have non-null values in each column.\n",
    "- The 'userId' and 'id' columns are of integer type (int64), while the 'title' and 'body' columns are of object type.\n"
   ]
  },
  {
   "cell_type": "code",
   "execution_count": 13,
   "metadata": {},
   "outputs": [],
   "source": [
    "# Saving API data to CSV file\n",
    "api_dataframe.to_csv('api_data.csv', index=False)"
   ]
  },
  {
   "cell_type": "code",
   "execution_count": 14,
   "metadata": {},
   "outputs": [],
   "source": [
    "\n",
    "# Establish connection to Snowflake\n",
    "con = snowflake.connector.connect(\n",
    "    user = 'BAKSHI01',\n",
    "    password = 'Boa4hancock',\n",
    "    account = 'vtwzcvl-uo17880',\n",
    "    warehouse='COMPUTE_WH',\n",
    "    database = 'MOHAN_AI2024',\n",
    "    schema = 'ASSIGNMENT2',\n",
    "    role = 'ACCOUNTADMIN'\n",
    ")"
   ]
  },
  {
   "cell_type": "code",
   "execution_count": 15,
   "metadata": {},
   "outputs": [
    {
     "data": {
      "text/plain": [
       "<snowflake.connector.cursor.SnowflakeCursor at 0x15561b680>"
      ]
     },
     "execution_count": 15,
     "metadata": {},
     "output_type": "execute_result"
    }
   ],
   "source": [
    "# Defining the SQL query to clone the Accounts table\n",
    "sql_query = \"\"\"\n",
    "CREATE or REPLACE TABLE ASSIGNMENT2.ACCOUNTS AS\n",
    "SELECT *\n",
    "FROM ETL_TASKS.ACCOUNTS\n",
    "\"\"\"\n",
    "\n",
    "# Executing the SQL query\n",
    "cursor = con.cursor()\n",
    "cursor.execute(sql_query)"
   ]
  },
  {
   "cell_type": "code",
   "execution_count": 18,
   "metadata": {},
   "outputs": [
    {
     "data": {
      "text/html": [
       "<div>\n",
       "<style scoped>\n",
       "    .dataframe tbody tr th:only-of-type {\n",
       "        vertical-align: middle;\n",
       "    }\n",
       "\n",
       "    .dataframe tbody tr th {\n",
       "        vertical-align: top;\n",
       "    }\n",
       "\n",
       "    .dataframe thead th {\n",
       "        text-align: right;\n",
       "    }\n",
       "</style>\n",
       "<table border=\"1\" class=\"dataframe\">\n",
       "  <thead>\n",
       "    <tr style=\"text-align: right;\">\n",
       "      <th></th>\n",
       "      <th>ID</th>\n",
       "      <th>NAME</th>\n",
       "      <th>WEBSITE</th>\n",
       "      <th>LAT</th>\n",
       "      <th>LONG</th>\n",
       "      <th>PRIMARY_POC</th>\n",
       "      <th>SALES_REP_ID</th>\n",
       "    </tr>\n",
       "  </thead>\n",
       "  <tbody>\n",
       "    <tr>\n",
       "      <th>0</th>\n",
       "      <td>1001</td>\n",
       "      <td>Walmart</td>\n",
       "      <td>www.walmart.com</td>\n",
       "      <td>40.238496</td>\n",
       "      <td>-75.103297</td>\n",
       "      <td>Tamara Tuma</td>\n",
       "      <td>321500</td>\n",
       "    </tr>\n",
       "    <tr>\n",
       "      <th>1</th>\n",
       "      <td>1011</td>\n",
       "      <td>Exxon Mobil</td>\n",
       "      <td>www.exxonmobil.com</td>\n",
       "      <td>41.169156</td>\n",
       "      <td>-73.849374</td>\n",
       "      <td>Sung Shields</td>\n",
       "      <td>321510</td>\n",
       "    </tr>\n",
       "    <tr>\n",
       "      <th>2</th>\n",
       "      <td>1021</td>\n",
       "      <td>Apple</td>\n",
       "      <td>www.apple.com</td>\n",
       "      <td>42.290495</td>\n",
       "      <td>-76.084009</td>\n",
       "      <td>Jodee Lupo</td>\n",
       "      <td>321520</td>\n",
       "    </tr>\n",
       "    <tr>\n",
       "      <th>3</th>\n",
       "      <td>1031</td>\n",
       "      <td>Berkshire Hathaway</td>\n",
       "      <td>www.berkshirehathaway.com</td>\n",
       "      <td>40.949021</td>\n",
       "      <td>-75.763898</td>\n",
       "      <td>Serafina Banda</td>\n",
       "      <td>321530</td>\n",
       "    </tr>\n",
       "    <tr>\n",
       "      <th>4</th>\n",
       "      <td>1041</td>\n",
       "      <td>McKesson</td>\n",
       "      <td>www.mckesson.com</td>\n",
       "      <td>42.217093</td>\n",
       "      <td>-75.284998</td>\n",
       "      <td>Angeles Crusoe</td>\n",
       "      <td>321540</td>\n",
       "    </tr>\n",
       "    <tr>\n",
       "      <th>...</th>\n",
       "      <td>...</td>\n",
       "      <td>...</td>\n",
       "      <td>...</td>\n",
       "      <td>...</td>\n",
       "      <td>...</td>\n",
       "      <td>...</td>\n",
       "      <td>...</td>\n",
       "    </tr>\n",
       "    <tr>\n",
       "      <th>346</th>\n",
       "      <td>4461</td>\n",
       "      <td>KKR</td>\n",
       "      <td>www.kkr.com</td>\n",
       "      <td>45.545353</td>\n",
       "      <td>-122.655247</td>\n",
       "      <td>Buffy Azure</td>\n",
       "      <td>321970</td>\n",
       "    </tr>\n",
       "    <tr>\n",
       "      <th>347</th>\n",
       "      <td>4471</td>\n",
       "      <td>Oneok</td>\n",
       "      <td>www.oneok.com</td>\n",
       "      <td>45.513513</td>\n",
       "      <td>-122.681500</td>\n",
       "      <td>Esta Engelhardt</td>\n",
       "      <td>321960</td>\n",
       "    </tr>\n",
       "    <tr>\n",
       "      <th>348</th>\n",
       "      <td>4481</td>\n",
       "      <td>Newmont Mining</td>\n",
       "      <td>www.newmont.com</td>\n",
       "      <td>45.494117</td>\n",
       "      <td>-122.669460</td>\n",
       "      <td>Khadijah Riemann</td>\n",
       "      <td>321970</td>\n",
       "    </tr>\n",
       "    <tr>\n",
       "      <th>349</th>\n",
       "      <td>4491</td>\n",
       "      <td>PPL</td>\n",
       "      <td>www.pplweb.com</td>\n",
       "      <td>45.491720</td>\n",
       "      <td>-122.671880</td>\n",
       "      <td>Deanne Hertlein</td>\n",
       "      <td>321960</td>\n",
       "    </tr>\n",
       "    <tr>\n",
       "      <th>350</th>\n",
       "      <td>4501</td>\n",
       "      <td>SpartanNash</td>\n",
       "      <td>www.spartannash.com</td>\n",
       "      <td>45.555651</td>\n",
       "      <td>-122.657145</td>\n",
       "      <td>Jewell Likes</td>\n",
       "      <td>321970</td>\n",
       "    </tr>\n",
       "  </tbody>\n",
       "</table>\n",
       "<p>351 rows × 7 columns</p>\n",
       "</div>"
      ],
      "text/plain": [
       "       ID                NAME                    WEBSITE        LAT  \\\n",
       "0    1001             Walmart            www.walmart.com  40.238496   \n",
       "1    1011         Exxon Mobil         www.exxonmobil.com  41.169156   \n",
       "2    1021               Apple              www.apple.com  42.290495   \n",
       "3    1031  Berkshire Hathaway  www.berkshirehathaway.com  40.949021   \n",
       "4    1041            McKesson           www.mckesson.com  42.217093   \n",
       "..    ...                 ...                        ...        ...   \n",
       "346  4461                 KKR                www.kkr.com  45.545353   \n",
       "347  4471               Oneok              www.oneok.com  45.513513   \n",
       "348  4481      Newmont Mining            www.newmont.com  45.494117   \n",
       "349  4491                 PPL             www.pplweb.com  45.491720   \n",
       "350  4501         SpartanNash        www.spartannash.com  45.555651   \n",
       "\n",
       "           LONG       PRIMARY_POC  SALES_REP_ID  \n",
       "0    -75.103297       Tamara Tuma        321500  \n",
       "1    -73.849374      Sung Shields        321510  \n",
       "2    -76.084009        Jodee Lupo        321520  \n",
       "3    -75.763898    Serafina Banda        321530  \n",
       "4    -75.284998    Angeles Crusoe        321540  \n",
       "..          ...               ...           ...  \n",
       "346 -122.655247       Buffy Azure        321970  \n",
       "347 -122.681500   Esta Engelhardt        321960  \n",
       "348 -122.669460  Khadijah Riemann        321970  \n",
       "349 -122.671880   Deanne Hertlein        321960  \n",
       "350 -122.657145      Jewell Likes        321970  \n",
       "\n",
       "[351 rows x 7 columns]"
      ]
     },
     "execution_count": 18,
     "metadata": {},
     "output_type": "execute_result"
    }
   ],
   "source": [
    "cursor.execute('SELECT * FROM ASSIGNMENT2.ACCOUNTS')\n",
    "accounts_df = cursor.fetch_pandas_all()\n",
    "accounts_df\n"
   ]
  },
  {
   "cell_type": "code",
   "execution_count": 29,
   "metadata": {},
   "outputs": [],
   "source": [
    "# Loading data from CSV file into a Pandas DataFrame\n",
    "api_df = pd.read_csv('api_data.csv')\n"
   ]
  },
  {
   "cell_type": "code",
   "execution_count": 30,
   "metadata": {},
   "outputs": [],
   "source": [
    "# Converting column names to uppercase\n",
    "api_df.columns = map(lambda x: str(x).upper(), api_df.columns)\n",
    "\n",
    "# Replacing spaces in column names with underscores\n",
    "api_df.columns = api_df.columns.str.replace(' ', '_')"
   ]
  },
  {
   "cell_type": "code",
   "execution_count": 31,
   "metadata": {},
   "outputs": [
    {
     "data": {
      "text/html": [
       "<div>\n",
       "<style scoped>\n",
       "    .dataframe tbody tr th:only-of-type {\n",
       "        vertical-align: middle;\n",
       "    }\n",
       "\n",
       "    .dataframe tbody tr th {\n",
       "        vertical-align: top;\n",
       "    }\n",
       "\n",
       "    .dataframe thead th {\n",
       "        text-align: right;\n",
       "    }\n",
       "</style>\n",
       "<table border=\"1\" class=\"dataframe\">\n",
       "  <thead>\n",
       "    <tr style=\"text-align: right;\">\n",
       "      <th></th>\n",
       "      <th>USERID</th>\n",
       "      <th>ID</th>\n",
       "      <th>TITLE</th>\n",
       "      <th>BODY</th>\n",
       "    </tr>\n",
       "  </thead>\n",
       "  <tbody>\n",
       "    <tr>\n",
       "      <th>0</th>\n",
       "      <td>1</td>\n",
       "      <td>1</td>\n",
       "      <td>sunt aut facere repellat provident occaecati e...</td>\n",
       "      <td>quia et suscipit\\nsuscipit recusandae consequu...</td>\n",
       "    </tr>\n",
       "    <tr>\n",
       "      <th>1</th>\n",
       "      <td>1</td>\n",
       "      <td>2</td>\n",
       "      <td>qui est esse</td>\n",
       "      <td>est rerum tempore vitae\\nsequi sint nihil repr...</td>\n",
       "    </tr>\n",
       "    <tr>\n",
       "      <th>2</th>\n",
       "      <td>1</td>\n",
       "      <td>3</td>\n",
       "      <td>ea molestias quasi exercitationem repellat qui...</td>\n",
       "      <td>et iusto sed quo iure\\nvoluptatem occaecati om...</td>\n",
       "    </tr>\n",
       "    <tr>\n",
       "      <th>3</th>\n",
       "      <td>1</td>\n",
       "      <td>4</td>\n",
       "      <td>eum et est occaecati</td>\n",
       "      <td>ullam et saepe reiciendis voluptatem adipisci\\...</td>\n",
       "    </tr>\n",
       "    <tr>\n",
       "      <th>4</th>\n",
       "      <td>1</td>\n",
       "      <td>5</td>\n",
       "      <td>nesciunt quas odio</td>\n",
       "      <td>repudiandae veniam quaerat sunt sed\\nalias aut...</td>\n",
       "    </tr>\n",
       "  </tbody>\n",
       "</table>\n",
       "</div>"
      ],
      "text/plain": [
       "   USERID  ID                                              TITLE  \\\n",
       "0       1   1  sunt aut facere repellat provident occaecati e...   \n",
       "1       1   2                                       qui est esse   \n",
       "2       1   3  ea molestias quasi exercitationem repellat qui...   \n",
       "3       1   4                               eum et est occaecati   \n",
       "4       1   5                                 nesciunt quas odio   \n",
       "\n",
       "                                                BODY  \n",
       "0  quia et suscipit\\nsuscipit recusandae consequu...  \n",
       "1  est rerum tempore vitae\\nsequi sint nihil repr...  \n",
       "2  et iusto sed quo iure\\nvoluptatem occaecati om...  \n",
       "3  ullam et saepe reiciendis voluptatem adipisci\\...  \n",
       "4  repudiandae veniam quaerat sunt sed\\nalias aut...  "
      ]
     },
     "execution_count": 31,
     "metadata": {},
     "output_type": "execute_result"
    }
   ],
   "source": [
    "# Display the first 5 rows of the DataFrame\n",
    "api_df.head()"
   ]
  },
  {
   "cell_type": "code",
   "execution_count": 21,
   "metadata": {},
   "outputs": [
    {
     "data": {
      "text/plain": [
       "<snowflake.connector.cursor.SnowflakeCursor at 0x15561b680>"
      ]
     },
     "execution_count": 21,
     "metadata": {},
     "output_type": "execute_result"
    }
   ],
   "source": [
    "# SQL query to create or replace a table named API_DATA\n",
    "create_api_table_query = '''\n",
    "    CREATE OR REPLACE TABLE API_DATA (\n",
    "        ID INT PRIMARY KEY,\n",
    "        USERID INT,\n",
    "        TITLE STRING,\n",
    "        BODY STRING\n",
    "    )\n",
    "'''\n",
    "\n",
    "# Executing the SQL query\n",
    "cursor.execute(create_api_table_query)"
   ]
  },
  {
   "cell_type": "code",
   "execution_count": 32,
   "metadata": {},
   "outputs": [],
   "source": [
    "# Loading final employee data from CSV file into a Pandas DataFrame\n",
    "final_employee_df = pd.read_csv('final_employees_data.csv')"
   ]
  },
  {
   "cell_type": "code",
   "execution_count": 33,
   "metadata": {},
   "outputs": [],
   "source": [
    "# Converting column names to uppercase\n",
    "final_employee_df.columns = map(lambda x: str(x).upper(), final_employee_df.columns)\n",
    "\n",
    "# Replacing spaces in column names with underscores\n",
    "final_employee_df.columns = final_employee_df.columns.str.replace(' ', '_')"
   ]
  },
  {
   "cell_type": "code",
   "execution_count": 35,
   "metadata": {},
   "outputs": [
    {
     "data": {
      "text/html": [
       "<div>\n",
       "<style scoped>\n",
       "    .dataframe tbody tr th:only-of-type {\n",
       "        vertical-align: middle;\n",
       "    }\n",
       "\n",
       "    .dataframe tbody tr th {\n",
       "        vertical-align: top;\n",
       "    }\n",
       "\n",
       "    .dataframe thead th {\n",
       "        text-align: right;\n",
       "    }\n",
       "</style>\n",
       "<table border=\"1\" class=\"dataframe\">\n",
       "  <thead>\n",
       "    <tr style=\"text-align: right;\">\n",
       "      <th></th>\n",
       "      <th>ID</th>\n",
       "      <th>NAME</th>\n",
       "      <th>DEPARTMENT</th>\n",
       "      <th>SALARY</th>\n",
       "    </tr>\n",
       "  </thead>\n",
       "  <tbody>\n",
       "    <tr>\n",
       "      <th>0</th>\n",
       "      <td>1</td>\n",
       "      <td>Alice Johnson</td>\n",
       "      <td>Finance</td>\n",
       "      <td>50091</td>\n",
       "    </tr>\n",
       "    <tr>\n",
       "      <th>1</th>\n",
       "      <td>2</td>\n",
       "      <td>Alice Johnson</td>\n",
       "      <td>IT</td>\n",
       "      <td>57010</td>\n",
       "    </tr>\n",
       "    <tr>\n",
       "      <th>2</th>\n",
       "      <td>3</td>\n",
       "      <td>Alice Johnson</td>\n",
       "      <td>Finance</td>\n",
       "      <td>78148</td>\n",
       "    </tr>\n",
       "    <tr>\n",
       "      <th>3</th>\n",
       "      <td>4</td>\n",
       "      <td>C Ronald</td>\n",
       "      <td>Finance</td>\n",
       "      <td>22091</td>\n",
       "    </tr>\n",
       "    <tr>\n",
       "      <th>4</th>\n",
       "      <td>5</td>\n",
       "      <td>trump D</td>\n",
       "      <td>IT</td>\n",
       "      <td>87010</td>\n",
       "    </tr>\n",
       "  </tbody>\n",
       "</table>\n",
       "</div>"
      ],
      "text/plain": [
       "   ID           NAME DEPARTMENT  SALARY\n",
       "0   1  Alice Johnson    Finance   50091\n",
       "1   2  Alice Johnson         IT   57010\n",
       "2   3  Alice Johnson    Finance   78148\n",
       "3   4       C Ronald    Finance   22091\n",
       "4   5        trump D         IT   87010"
      ]
     },
     "execution_count": 35,
     "metadata": {},
     "output_type": "execute_result"
    }
   ],
   "source": [
    "# Displaying the first 5 rows of the DataFrame for inspection\n",
    "final_employee_df.head()"
   ]
  },
  {
   "cell_type": "code",
   "execution_count": 36,
   "metadata": {},
   "outputs": [
    {
     "data": {
      "text/plain": [
       "<snowflake.connector.cursor.SnowflakeCursor at 0x15561b680>"
      ]
     },
     "execution_count": 36,
     "metadata": {},
     "output_type": "execute_result"
    }
   ],
   "source": [
    "# SQL query to create or replace a table named EMPLOYEE_DATA\n",
    "create_table_query = '''\n",
    "    CREATE OR REPLACE TABLE EMPLOYEE_DATA (\n",
    "        ID INT PRIMARY KEY,\n",
    "        NAME STRING,\n",
    "        DEPARTMENT STRING,\n",
    "        SALARY DECIMAL\n",
    "    )\n",
    "'''\n",
    "\n",
    "# Executing the SQL query using the cursor\n",
    "cursor.execute(create_table_query)"
   ]
  },
  {
   "cell_type": "code",
   "execution_count": 37,
   "metadata": {},
   "outputs": [
    {
     "data": {
      "text/plain": [
       "(True,\n",
       " 1,\n",
       " 9,\n",
       " [('vkorjojppx/file0.txt', 'LOADED', 9, 9, 1, 0, None, None, None, None)])"
      ]
     },
     "execution_count": 37,
     "metadata": {},
     "output_type": "execute_result"
    }
   ],
   "source": [
    "# Writing the api_df and final_employee_df DataFrame to a table named 'API_DATA' and 'EMPLOYEE_DATA'\n",
    "write_pandas(conn= con, df=api_df, table_name='API_DATA')\n",
    "write_pandas(conn= con, df=final_employee_df, table_name='EMPLOYEE_DATA')"
   ]
  },
  {
   "cell_type": "code",
   "execution_count": 38,
   "metadata": {},
   "outputs": [],
   "source": [
    "cursor.close()\n",
    "con.close()"
   ]
  },
  {
   "cell_type": "markdown",
   "metadata": {},
   "source": [
    "\n",
    "In conclusion, I have effectively created a data mart in the ASSIGNMENT2 schema of my Snowflake database by integrating employee data from flat file sources, API data from https://jsonplaceholder.typicode.com/posts, and database data from the account table. \n",
    "\n",
    "This data mart, comprising three tables (ACCOUNTS, API_DATA, EMPLOYEE_DATA), provides a consolidated and structured view of diverse data sources, facilitating comprehensive analysis and informed decision-making processes."
   ]
  }
 ],
 "metadata": {
  "kernelspec": {
   "display_name": "Python 3",
   "language": "python",
   "name": "python3"
  },
  "language_info": {
   "codemirror_mode": {
    "name": "ipython",
    "version": 3
   },
   "file_extension": ".py",
   "mimetype": "text/x-python",
   "name": "python",
   "nbconvert_exporter": "python",
   "pygments_lexer": "ipython3",
   "version": "3.12.1"
  }
 },
 "nbformat": 4,
 "nbformat_minor": 2
}
