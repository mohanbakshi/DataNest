{
 "cells": [
  {
   "cell_type": "markdown",
   "id": "3568ab81-f864-4de8-a727-e74261e1f7c3",
   "metadata": {},
   "source": [
    "### Statistical Estimation and Hypothesis Testing for Population Mean\n",
    "#### By Mohan Bakshi"
   ]
  },
  {
   "cell_type": "code",
   "execution_count": 1,
   "id": "6f70a304-f517-4611-a9b4-a38c0e70a803",
   "metadata": {},
   "outputs": [],
   "source": [
    "# Importing libraries\n",
    "\n",
    "import numpy as np\n",
    "import matplotlib.pyplot as plt\n",
    "import scipy.stats as st\n",
    "import pandas as pd\n",
    "from IPython.display import display"
   ]
  },
  {
   "cell_type": "code",
   "execution_count": 2,
   "id": "4fe9625b-e1b5-4386-9ce6-bb05243f08a3",
   "metadata": {},
   "outputs": [],
   "source": [
    "# Importing cleaned census income dataset\n",
    "census_income_df = pd.read_csv('datasets/cleaned_census_income.csv')"
   ]
  },
  {
   "cell_type": "code",
   "execution_count": 4,
   "id": "e9624b7a-74c7-40b9-a730-02a2094c4bc9",
   "metadata": {},
   "outputs": [
    {
     "name": "stdout",
     "output_type": "stream",
     "text": [
      "(30162, 15)\n"
     ]
    },
    {
     "data": {
      "text/html": [
       "<div>\n",
       "<style scoped>\n",
       "    .dataframe tbody tr th:only-of-type {\n",
       "        vertical-align: middle;\n",
       "    }\n",
       "\n",
       "    .dataframe tbody tr th {\n",
       "        vertical-align: top;\n",
       "    }\n",
       "\n",
       "    .dataframe thead th {\n",
       "        text-align: right;\n",
       "    }\n",
       "</style>\n",
       "<table border=\"1\" class=\"dataframe\">\n",
       "  <thead>\n",
       "    <tr style=\"text-align: right;\">\n",
       "      <th></th>\n",
       "      <th>age</th>\n",
       "      <th>workclass</th>\n",
       "      <th>fnlwgt</th>\n",
       "      <th>education</th>\n",
       "      <th>education.num</th>\n",
       "      <th>marital.status</th>\n",
       "      <th>occupation</th>\n",
       "      <th>relationship</th>\n",
       "      <th>race</th>\n",
       "      <th>sex</th>\n",
       "      <th>capital.gain</th>\n",
       "      <th>capital.loss</th>\n",
       "      <th>hours.per.week</th>\n",
       "      <th>native.country</th>\n",
       "      <th>income</th>\n",
       "    </tr>\n",
       "  </thead>\n",
       "  <tbody>\n",
       "    <tr>\n",
       "      <th>0</th>\n",
       "      <td>82</td>\n",
       "      <td>Private</td>\n",
       "      <td>132870</td>\n",
       "      <td>HS-grad</td>\n",
       "      <td>9</td>\n",
       "      <td>Widowed</td>\n",
       "      <td>Exec-managerial</td>\n",
       "      <td>Not-in-family</td>\n",
       "      <td>White</td>\n",
       "      <td>Female</td>\n",
       "      <td>0</td>\n",
       "      <td>4356</td>\n",
       "      <td>18</td>\n",
       "      <td>United-States</td>\n",
       "      <td>&lt;=50K</td>\n",
       "    </tr>\n",
       "    <tr>\n",
       "      <th>1</th>\n",
       "      <td>54</td>\n",
       "      <td>Private</td>\n",
       "      <td>140359</td>\n",
       "      <td>7th-8th</td>\n",
       "      <td>4</td>\n",
       "      <td>Divorced</td>\n",
       "      <td>Machine-op-inspct</td>\n",
       "      <td>Unmarried</td>\n",
       "      <td>White</td>\n",
       "      <td>Female</td>\n",
       "      <td>0</td>\n",
       "      <td>3900</td>\n",
       "      <td>40</td>\n",
       "      <td>United-States</td>\n",
       "      <td>&lt;=50K</td>\n",
       "    </tr>\n",
       "    <tr>\n",
       "      <th>2</th>\n",
       "      <td>41</td>\n",
       "      <td>Private</td>\n",
       "      <td>264663</td>\n",
       "      <td>Some-college</td>\n",
       "      <td>10</td>\n",
       "      <td>Separated</td>\n",
       "      <td>Prof-specialty</td>\n",
       "      <td>Own-child</td>\n",
       "      <td>White</td>\n",
       "      <td>Female</td>\n",
       "      <td>0</td>\n",
       "      <td>3900</td>\n",
       "      <td>40</td>\n",
       "      <td>United-States</td>\n",
       "      <td>&lt;=50K</td>\n",
       "    </tr>\n",
       "    <tr>\n",
       "      <th>3</th>\n",
       "      <td>34</td>\n",
       "      <td>Private</td>\n",
       "      <td>216864</td>\n",
       "      <td>HS-grad</td>\n",
       "      <td>9</td>\n",
       "      <td>Divorced</td>\n",
       "      <td>Other-service</td>\n",
       "      <td>Unmarried</td>\n",
       "      <td>White</td>\n",
       "      <td>Female</td>\n",
       "      <td>0</td>\n",
       "      <td>3770</td>\n",
       "      <td>45</td>\n",
       "      <td>United-States</td>\n",
       "      <td>&lt;=50K</td>\n",
       "    </tr>\n",
       "    <tr>\n",
       "      <th>4</th>\n",
       "      <td>38</td>\n",
       "      <td>Private</td>\n",
       "      <td>150601</td>\n",
       "      <td>10th</td>\n",
       "      <td>6</td>\n",
       "      <td>Separated</td>\n",
       "      <td>Adm-clerical</td>\n",
       "      <td>Unmarried</td>\n",
       "      <td>White</td>\n",
       "      <td>Male</td>\n",
       "      <td>0</td>\n",
       "      <td>3770</td>\n",
       "      <td>40</td>\n",
       "      <td>United-States</td>\n",
       "      <td>&lt;=50K</td>\n",
       "    </tr>\n",
       "    <tr>\n",
       "      <th>5</th>\n",
       "      <td>74</td>\n",
       "      <td>State-gov</td>\n",
       "      <td>88638</td>\n",
       "      <td>Doctorate</td>\n",
       "      <td>16</td>\n",
       "      <td>Never-married</td>\n",
       "      <td>Prof-specialty</td>\n",
       "      <td>Other-relative</td>\n",
       "      <td>White</td>\n",
       "      <td>Female</td>\n",
       "      <td>0</td>\n",
       "      <td>3683</td>\n",
       "      <td>20</td>\n",
       "      <td>United-States</td>\n",
       "      <td>&gt;50K</td>\n",
       "    </tr>\n",
       "    <tr>\n",
       "      <th>6</th>\n",
       "      <td>68</td>\n",
       "      <td>Federal-gov</td>\n",
       "      <td>422013</td>\n",
       "      <td>HS-grad</td>\n",
       "      <td>9</td>\n",
       "      <td>Divorced</td>\n",
       "      <td>Prof-specialty</td>\n",
       "      <td>Not-in-family</td>\n",
       "      <td>White</td>\n",
       "      <td>Female</td>\n",
       "      <td>0</td>\n",
       "      <td>3683</td>\n",
       "      <td>40</td>\n",
       "      <td>United-States</td>\n",
       "      <td>&lt;=50K</td>\n",
       "    </tr>\n",
       "    <tr>\n",
       "      <th>7</th>\n",
       "      <td>45</td>\n",
       "      <td>Private</td>\n",
       "      <td>172274</td>\n",
       "      <td>Doctorate</td>\n",
       "      <td>16</td>\n",
       "      <td>Divorced</td>\n",
       "      <td>Prof-specialty</td>\n",
       "      <td>Unmarried</td>\n",
       "      <td>Black</td>\n",
       "      <td>Female</td>\n",
       "      <td>0</td>\n",
       "      <td>3004</td>\n",
       "      <td>35</td>\n",
       "      <td>United-States</td>\n",
       "      <td>&gt;50K</td>\n",
       "    </tr>\n",
       "    <tr>\n",
       "      <th>8</th>\n",
       "      <td>38</td>\n",
       "      <td>Self-emp-not-inc</td>\n",
       "      <td>164526</td>\n",
       "      <td>Prof-school</td>\n",
       "      <td>15</td>\n",
       "      <td>Never-married</td>\n",
       "      <td>Prof-specialty</td>\n",
       "      <td>Not-in-family</td>\n",
       "      <td>White</td>\n",
       "      <td>Male</td>\n",
       "      <td>0</td>\n",
       "      <td>2824</td>\n",
       "      <td>45</td>\n",
       "      <td>United-States</td>\n",
       "      <td>&gt;50K</td>\n",
       "    </tr>\n",
       "    <tr>\n",
       "      <th>9</th>\n",
       "      <td>52</td>\n",
       "      <td>Private</td>\n",
       "      <td>129177</td>\n",
       "      <td>Bachelors</td>\n",
       "      <td>13</td>\n",
       "      <td>Widowed</td>\n",
       "      <td>Other-service</td>\n",
       "      <td>Not-in-family</td>\n",
       "      <td>White</td>\n",
       "      <td>Female</td>\n",
       "      <td>0</td>\n",
       "      <td>2824</td>\n",
       "      <td>20</td>\n",
       "      <td>United-States</td>\n",
       "      <td>&gt;50K</td>\n",
       "    </tr>\n",
       "  </tbody>\n",
       "</table>\n",
       "</div>"
      ],
      "text/plain": [
       "   age         workclass  fnlwgt     education  education.num marital.status  \\\n",
       "0   82           Private  132870       HS-grad              9        Widowed   \n",
       "1   54           Private  140359       7th-8th              4       Divorced   \n",
       "2   41           Private  264663  Some-college             10      Separated   \n",
       "3   34           Private  216864       HS-grad              9       Divorced   \n",
       "4   38           Private  150601          10th              6      Separated   \n",
       "5   74         State-gov   88638     Doctorate             16  Never-married   \n",
       "6   68       Federal-gov  422013       HS-grad              9       Divorced   \n",
       "7   45           Private  172274     Doctorate             16       Divorced   \n",
       "8   38  Self-emp-not-inc  164526   Prof-school             15  Never-married   \n",
       "9   52           Private  129177     Bachelors             13        Widowed   \n",
       "\n",
       "          occupation    relationship   race     sex  capital.gain  \\\n",
       "0    Exec-managerial   Not-in-family  White  Female             0   \n",
       "1  Machine-op-inspct       Unmarried  White  Female             0   \n",
       "2     Prof-specialty       Own-child  White  Female             0   \n",
       "3      Other-service       Unmarried  White  Female             0   \n",
       "4       Adm-clerical       Unmarried  White    Male             0   \n",
       "5     Prof-specialty  Other-relative  White  Female             0   \n",
       "6     Prof-specialty   Not-in-family  White  Female             0   \n",
       "7     Prof-specialty       Unmarried  Black  Female             0   \n",
       "8     Prof-specialty   Not-in-family  White    Male             0   \n",
       "9      Other-service   Not-in-family  White  Female             0   \n",
       "\n",
       "   capital.loss  hours.per.week native.country income  \n",
       "0          4356              18  United-States  <=50K  \n",
       "1          3900              40  United-States  <=50K  \n",
       "2          3900              40  United-States  <=50K  \n",
       "3          3770              45  United-States  <=50K  \n",
       "4          3770              40  United-States  <=50K  \n",
       "5          3683              20  United-States   >50K  \n",
       "6          3683              40  United-States  <=50K  \n",
       "7          3004              35  United-States   >50K  \n",
       "8          2824              45  United-States   >50K  \n",
       "9          2824              20  United-States   >50K  "
      ]
     },
     "execution_count": 4,
     "metadata": {},
     "output_type": "execute_result"
    }
   ],
   "source": [
    "# Printing shape and head\n",
    "print(census_income_df.shape)\n",
    "census_income_df.head(10)"
   ]
  },
  {
   "cell_type": "code",
   "execution_count": 5,
   "id": "0c6f5854-28c9-4015-8d8e-f33282b6abca",
   "metadata": {},
   "outputs": [
    {
     "name": "stdout",
     "output_type": "stream",
     "text": [
      "Quantitative columns are: ['capital.gain', 'age', 'capital.loss', 'fnlwgt', 'hours.per.week', 'education.num']\n",
      "Categorical columns are: ['relationship', 'income', 'native.country', 'sex', 'marital.status', 'workclass', 'occupation', 'race', 'education']\n"
     ]
    }
   ],
   "source": [
    "# Classifying column into categorical and quantitaive columns\n",
    "\n",
    "def check_columns(df: pd.DataFrame):\n",
    "    columns = df.columns\n",
    "    quantitative_columns = list(set(df._get_numeric_data().columns))\n",
    "    categorical_columns = list(set(columns) - set(quantitative_columns))\n",
    "    return quantitative_columns, categorical_columns\n",
    "\n",
    "quan_cols, cat_cols = check_columns(census_income_df)\n",
    "print(f'Quantitative columns are: {quan_cols}')\n",
    "print(f'Categorical columns are: {cat_cols}')"
   ]
  },
  {
   "cell_type": "markdown",
   "id": "c981b7e0-c89c-48e2-b38f-161a305b0ef1",
   "metadata": {},
   "source": [
    "### Question 1"
   ]
  },
  {
   "cell_type": "markdown",
   "id": "b6ac18f7-dda7-4a65-ab68-598bac893614",
   "metadata": {},
   "source": [
    "The US Department of Labor is interested in studying the population mean of\n",
    "ages of the American adults who work for the workclass = Private sector and have\n",
    "an annual income greater than 50k.\n",
    "- Denote X as the age variable for American adults who work for the Private sector\n",
    "and have an annual Income greater than 50k (‘>50K’)\n",
    "- Based on the sample dataset, estimate point estimation for population mean of X\n",
    "- Based on the sample dataset, estimate 95% confidence interval for population\n",
    "mean of X\n",
    "- Situation: A recent study claimed that the average age of American adults working\n",
    "for the Private sector and having Income > 50K was very young in the 1990s, just\n",
    "about 25. The head of the US Department of Labor believes that the mean should be\n",
    "higher.\n",
    "Based on this dataset sample, conduct a hypothesis testing for the population mean\n",
    "of X to draw conclusions about those statements."
   ]
  },
  {
   "cell_type": "code",
   "execution_count": 49,
   "id": "83c437fa-308c-487d-857c-d2dc36826b45",
   "metadata": {},
   "outputs": [
    {
     "name": "stdout",
     "output_type": "stream",
     "text": [
      "\n",
      " Number of sample X: 4876\n",
      "\n",
      " The point estimation for population mean of X: 42.8201\n",
      "\n",
      " Population Standard Deviation of X: 9.9757\n",
      "\n",
      " The Confidence Level: 0.95\n",
      "\n",
      " The P_value : 0.0250\n",
      "\n",
      " T-star : 1.9605\n",
      "\n",
      " 95% Confidence Interval for Population Proportion of X: \n",
      " Lower Bound = 42.5401 \n",
      " Upper Bound = 43.1002\n"
     ]
    }
   ],
   "source": [
    "income_private_sector_df = census_income_df[(census_income_df.workclass == 'Private') & (census_income_df.income == '>50K')]\n",
    "\n",
    "# Number of sample\n",
    "number_of_sample_X = income_private_sector_df.age.count()\n",
    "print(f'\\n Number of sample X: {number_of_sample_X}')\n",
    "\n",
    "# Sample mean\n",
    "population_mean_X_bar = income_private_sector_df.age.mean()\n",
    "print(f'\\n The point estimation for population mean of X: {population_mean_X_bar:.4f}')\n",
    "\n",
    "# Sample standard deviation\n",
    "population_std_X = income_private_sector_df.age.std()\n",
    "print(f'\\n Population Standard Deviation of X: {population_std_X:.4f}')\n",
    "\n",
    "# Defining the confidence level\n",
    "confidence_level_X = 0.95\n",
    "print(f'\\n The Confidence Level: {confidence_level_X}')\n",
    "\n",
    "p_value_X = (1 - confidence_level_X) / 2\n",
    "print(f'\\n The P_value : {p_value_X:.4f}')\n",
    "t_star = st.t.ppf(q = 1 - p_value_X, df = number_of_sample_X - 1)\n",
    "print(f'\\n T-star : {t_star:.4f}')\n",
    "\n",
    "# Calculating the lower and upper bounds of the confidence interval\n",
    "lower_bound_X = population_mean_X_bar - t_star*(population_std_X / np.sqrt(number_of_sample_X))\n",
    "upper_bound_X = population_mean_X_bar + t_star*(population_std_X / np.sqrt(number_of_sample_X))\n",
    "print(f\"\\n 95% Confidence Interval for Population Proportion of X: \\n Lower Bound = {lower_bound_X:.4f} \\n Upper Bound = {upper_bound_X:.4f}\")"
   ]
  },
  {
   "cell_type": "markdown",
   "id": "8e1b1c67-e58f-4623-b0a5-e0c70925d0a6",
   "metadata": {},
   "source": [
    "Since the point estimation for population mean of X (42.8201) falls within the confidence interval (42.5401 - 43.1002 ), we can conclude that there is evidence to support that the true population mean of American adults working for the Private sector and having an annual income greater than 50k is likely to fall within the range of 42.5401 to 43.1002 with a confidence level of 95%."
   ]
  },
  {
   "cell_type": "markdown",
   "id": "09d02264-db68-4a4a-96ea-3d517f30cb5a",
   "metadata": {},
   "source": [
    "#### Hypothesis testing for population mean of X \n",
    "\n",
    "##### Step1: State the Hypotheses:\n",
    "\n",
    "- Null Hypothesis (Ho): American adults working for the Private sector and having Income > 50K having age = 25.\n",
    "- Alternative Hypothesis (Ha): American adults working for the Private sector and having Income > 50K having age > 25.\n",
    "\n",
    "___H0 : mu = mu_0 = 25___\n",
    "\n",
    "___Ha: mu > 25___"
   ]
  },
  {
   "cell_type": "markdown",
   "id": "5272dffa-8b30-46d3-bb5c-c6ff18cf3bdc",
   "metadata": {},
   "source": [
    "##### Step2: Collecting and summarizing data using t-test statistics, t-score"
   ]
  },
  {
   "cell_type": "code",
   "execution_count": 56,
   "id": "2f7e5162-3d61-4971-89eb-931c937e3588",
   "metadata": {},
   "outputs": [
    {
     "name": "stdout",
     "output_type": "stream",
     "text": [
      "\n",
      " T_Score of X : 124.7385\n"
     ]
    }
   ],
   "source": [
    "# Calculating t_score\n",
    "t_score_X = (population_mean_X_bar - 25) / (population_std_X / np.sqrt(number_of_sample_X))\n",
    "\n",
    "print(f'\\n T_Score of X : {t_score_X:.4f}')"
   ]
  },
  {
   "cell_type": "markdown",
   "id": "58795919-c1fd-49f9-b0a9-b243d944a546",
   "metadata": {},
   "source": [
    "##### Step3: Finding the p-Value of the Test"
   ]
  },
  {
   "cell_type": "code",
   "execution_count": 57,
   "id": "641faf84-69f2-48da-8a62-f67c69123f18",
   "metadata": {},
   "outputs": [
    {
     "name": "stdout",
     "output_type": "stream",
     "text": [
      "\n",
      " p value of X : 0.0000\n"
     ]
    }
   ],
   "source": [
    "# Calculating p-value\n",
    "p_value_X = 1 - st.t.cdf(x=t_score_X, df=number_of_sample_X-1)\n",
    "print(f'\\n p value of X : {p_value_X:.4f}')"
   ]
  },
  {
   "cell_type": "markdown",
   "id": "4cd5441b-2bc3-4f52-8405-45da5715c995",
   "metadata": {},
   "source": [
    "##### Step4: Draw conclusions based on p-value"
   ]
  },
  {
   "cell_type": "markdown",
   "id": "bb9a517a-a231-46ee-9002-4e4a05ac5d5d",
   "metadata": {},
   "source": [
    "We see that the p_value is very small 0 < 0.05. Thus, the null hypothesis can be rejected."
   ]
  },
  {
   "cell_type": "markdown",
   "id": "23a01dc4-11e3-4e5c-a95a-d4ac4a776e5e",
   "metadata": {},
   "source": [
    "### Question 2"
   ]
  },
  {
   "cell_type": "markdown",
   "id": "adc26756-e977-44b7-9b81-5fb2b25019cd",
   "metadata": {},
   "source": [
    "The US Department of Labor is also interested in studying the population mean of the number of education years ‘education.num’ of American adults who work for the workclass = Private and have an annual Income greater than 50k (‘>50K’) in the 1990s.\n",
    "- Denote Y as the variable for number of education years ‘education.num’ of American adults who work for the workclass = Private and have an annual Income greater than $50k (‘>50K’) in the 1990s.\n",
    "- Based on the sample dataset, estimate point estimation for population mean of Y\n",
    "- Based on the sample dataset, estimate 95% confidence interval for population mean of Y\n",
    "- Situation: A recent study claimed that the average number of education years ‘education.num’ of American adults who work for the workclass = Private and have an annual Income greater than 50k (‘>50K’) in the 1990s was small, just about 3 years. The head of the US Department of Labor believes that the mean\n",
    "should be higher.\n",
    "\n",
    "Based on this dataset sample, conduct a hypothesis testing for the population mean\n",
    "of Y to draw conclusions about those statements"
   ]
  },
  {
   "cell_type": "code",
   "execution_count": 62,
   "id": "7b7b7042-d61d-4585-b6dc-e289602a5079",
   "metadata": {},
   "outputs": [
    {
     "name": "stdout",
     "output_type": "stream",
     "text": [
      "\n",
      " Number of sample Y: 4876\n",
      "\n",
      " The point estimation for population mean of Y: 11.4161\n",
      "\n",
      " Population Standard Deviation of Y: 2.2814\n",
      "\n",
      " The Confidence Level: 0.95\n",
      "\n",
      " The P_value : 0.0250\n",
      "\n",
      " T-star : 1.9605\n",
      "\n",
      " 95% Confidence Interval for Population Proportion of Y: \n",
      " Lower Bound = 11.3521 \n",
      " Upper Bound = 11.4802\n"
     ]
    }
   ],
   "source": [
    "# Number of sample\n",
    "number_of_sample_Y = income_private_sector_df[income_private_sector_df['education.num'].notna()].shape[0]\n",
    "print(f'\\n Number of sample Y: {number_of_sample_Y}')\n",
    "\n",
    "# Sample mean\n",
    "population_mean_Y_bar = income_private_sector_df['education.num'].mean()\n",
    "print(f'\\n The point estimation for population mean of Y: {population_mean_Y_bar:.4f}')\n",
    "\n",
    "# Sample standard deviation\n",
    "population_std_Y = income_private_sector_df['education.num'].std()\n",
    "print(f'\\n Population Standard Deviation of Y: {population_std_Y:.4f}')\n",
    "\n",
    "# Defining the confidence level\n",
    "confidence_level_Y = 0.95\n",
    "print(f'\\n The Confidence Level: {confidence_level_Y}')\n",
    "\n",
    "p_value_Y = (1 - confidence_level_Y) / 2\n",
    "print(f'\\n The P_value : {p_value_Y:.4f}')\n",
    "t_star_Y = st.t.ppf(q = 1 - p_value_Y, df = number_of_sample_Y - 1)\n",
    "print(f'\\n T-star : {t_star_Y:.4f}')\n",
    "\n",
    "# Calculating the lower and upper bounds of the confidence interval\n",
    "lower_bound_Y = population_mean_Y_bar - t_star_Y*(population_std_Y / np.sqrt(number_of_sample_Y))\n",
    "upper_bound_Y = population_mean_Y_bar + t_star_Y*(population_std_Y / np.sqrt(number_of_sample_Y))\n",
    "print(f\"\\n 95% Confidence Interval for Population Proportion of Y: \\n Lower Bound = {lower_bound_Y:.4f} \\n Upper Bound = {upper_bound_Y:.4f}\")"
   ]
  },
  {
   "cell_type": "markdown",
   "id": "10569069-9771-4d80-b651-98380f9f0173",
   "metadata": {},
   "source": [
    "Since the point estimation for population mean of Y (11.4161) falls within the confidence interval (11.3521 - 11.4802 ), we can conclude that there is evidence to support that the true population mean of American adults working for the Private sector and having an annual income greater than 50k is likely to fall within the range of 11.3521 to 11.4802 with a confidence level of 95%."
   ]
  },
  {
   "cell_type": "markdown",
   "id": "f496af8e-2e70-4ecb-8b43-dd2e7d461399",
   "metadata": {},
   "source": [
    "#### Hypothesis testing for population mean of Y \n",
    "\n",
    "##### Step1: State the Hypotheses:\n",
    "\n",
    "- Null Hypothesis (Ho): American adults working for the Private sector and having Income > 50K having average number of education years  = 3 years.\n",
    "- Alternative Hypothesis (Ha): American adults working for the Private sector and having Income > 50K having average number of education years > 3 years.\n",
    "\n",
    "___H0 : mu = mu_0 = 3___\n",
    "\n",
    "___Ha: mu > 3___"
   ]
  },
  {
   "cell_type": "markdown",
   "id": "18c6d796-dc71-44cf-a47b-8e19bdd54264",
   "metadata": {},
   "source": [
    "##### Step2: Collecting and summarizing data using t-test statistics, t-score"
   ]
  },
  {
   "cell_type": "code",
   "execution_count": 58,
   "id": "32f08a90-e409-4cdb-a39f-a1031ff529c4",
   "metadata": {},
   "outputs": [
    {
     "name": "stdout",
     "output_type": "stream",
     "text": [
      "\n",
      " T_Score of Y : 257.6011\n"
     ]
    }
   ],
   "source": [
    "# Calculating t_score\n",
    "t_score_Y = (population_mean_Y_bar - 3) / (population_std_Y / np.sqrt(number_of_sample_Y))\n",
    "\n",
    "print(f'\\n T_Score of Y : {t_score_Y:.4f}')"
   ]
  },
  {
   "cell_type": "markdown",
   "id": "255a1bf0-d8a3-46d7-8feb-482cc7fd9eb6",
   "metadata": {},
   "source": [
    "##### Step3: Finding the p-Value of the Test"
   ]
  },
  {
   "cell_type": "code",
   "execution_count": 59,
   "id": "3a52d7fc-ef81-45cd-8be5-82b4efb2162b",
   "metadata": {},
   "outputs": [
    {
     "name": "stdout",
     "output_type": "stream",
     "text": [
      "\n",
      " p value of Y : 0.0000\n"
     ]
    }
   ],
   "source": [
    "# Calculating p-value\n",
    "p_value_Y = 1 - st.t.cdf(x=t_score_Y, df=number_of_sample_Y-1)\n",
    "print(f'\\n p value of Y : {p_value_Y:.4f}')"
   ]
  },
  {
   "cell_type": "markdown",
   "id": "c8066564-03ba-48cf-a2be-126ee7f30142",
   "metadata": {},
   "source": [
    "##### Step4: Draw conclusions based on p-value"
   ]
  },
  {
   "cell_type": "markdown",
   "id": "b93a3c60-e0cf-4e09-bd0f-53b979f4d05b",
   "metadata": {},
   "source": [
    "We see that the p_value is very small 0 < 0.05. Thus, the null hypothesis can be rejected."
   ]
  }
 ],
 "metadata": {
  "kernelspec": {
   "display_name": "Python 3 (ipykernel)",
   "language": "python",
   "name": "python3"
  },
  "language_info": {
   "codemirror_mode": {
    "name": "ipython",
    "version": 3
   },
   "file_extension": ".py",
   "mimetype": "text/x-python",
   "name": "python",
   "nbconvert_exporter": "python",
   "pygments_lexer": "ipython3",
   "version": "3.12.1"
  }
 },
 "nbformat": 4,
 "nbformat_minor": 5
}
